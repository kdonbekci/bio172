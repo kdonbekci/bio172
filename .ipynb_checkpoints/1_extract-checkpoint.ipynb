{
 "cells": [
  {
   "cell_type": "markdown",
   "metadata": {},
   "source": [
    "# Extracting lxmx data for analysis\n",
    "\n",
    "You will need the following packages installed to be able to run the notebook."
   ]
  },
  {
   "cell_type": "code",
   "execution_count": 1,
   "metadata": {},
   "outputs": [],
   "source": [
    "import os\n",
    "import numpy as np\n",
    "import pandas as pd\n",
    "import pickle #for saving and loading the final dictionary"
   ]
  },
  {
   "cell_type": "code",
   "execution_count": 2,
   "metadata": {},
   "outputs": [],
   "source": [
    "DATA_DIR = 'data'\n",
    "OUTPUT_DIR = 'outputs'\n",
    "FILENAME = 'lxmx_data.xls'\n",
    "SPECIES_COL = 4"
   ]
  },
  {
   "cell_type": "code",
   "execution_count": 3,
   "metadata": {},
   "outputs": [],
   "source": [
    "LXMX = pd.read_excel(os.path.join(DATA_DIR, FILENAME), index_col=None, header=None)"
   ]
  },
  {
   "cell_type": "markdown",
   "metadata": {},
   "source": [
    "## Find the species: \n",
    "* store their names \n",
    "* slice indices in the DataFrame"
   ]
  },
  {
   "cell_type": "code",
   "execution_count": 4,
   "metadata": {},
   "outputs": [],
   "source": [
    "def find_species(df):\n",
    "    species_ix = np.where(pd.isna(df[SPECIES_COL]) == False)[0]\n",
    "    prev_index = -100\n",
    "    fixed_species_ix = []\n",
    "    for ix in species_ix:\n",
    "            if ix-1 == prev_index:\n",
    "                continue\n",
    "            else:\n",
    "                fixed_species_ix.append(ix)\n",
    "                prev_index = ix\n",
    "    species_names = list(df[SPECIES_COL][fixed_species_ix])\n",
    "    fixed_species_ix.append(len(df))\n",
    "    species_ix = np.array(fixed_species_ix)\n",
    "    species = {}\n",
    "    for i in range(len(species_names)):\n",
    "        s = species_names[i]\n",
    "        species[s] = (species_ix[i], species_ix[i+1]) \n",
    "    return species"
   ]
  },
  {
   "cell_type": "code",
   "execution_count": 5,
   "metadata": {},
   "outputs": [],
   "source": [
    "SPECIES_ix = find_species(LXMX)"
   ]
  },
  {
   "cell_type": "markdown",
   "metadata": {},
   "source": [
    "## Auxillary classes\n",
    "\n",
    "#### Data\n",
    "The Data object stores the matrices, the life history variables, and the auhtor/collector of the data entry as mentioned in the xls."
   ]
  },
  {
   "cell_type": "code",
   "execution_count": 6,
   "metadata": {},
   "outputs": [],
   "source": [
    "class Data:\n",
    "    def __init__(self, df):\n",
    "        cols = ['age', 'lx', 'mx', 's', ]\n",
    "        L = len(df)\n",
    "#         df.columns = cols\n",
    "#         print('=====================')\n",
    "#         print(df)\n",
    "        df.index = range(L)\n",
    "        self.matrix =df.loc[0:L-2, 0:3]\n",
    "        self.matrix.columns = cols\n",
    "        self.author = df[L-1:L][7].item()\n",
    "        self.vars = df.loc[0:1, 5:6]\n",
    "        self.vars.columns = ['0', '1']\n",
    "#         print('=====================')\n",
    "        \n",
    "    def __repr__(self):\n",
    "        return self.author"
   ]
  },
  {
   "cell_type": "markdown",
   "metadata": {},
   "source": [
    "#### Species\n",
    "Species object contains the raw DataFrame slice of all of the species data entries, as well as the name and notes (if present)."
   ]
  },
  {
   "cell_type": "code",
   "execution_count": 7,
   "metadata": {},
   "outputs": [],
   "source": [
    "class Species:\n",
    "    def __init__(self, name, df, lookup):\n",
    "        self.name = name\n",
    "        self.df = df[lookup[name][0]:lookup[name][1]]\n",
    "        self.df.index = range(len(self.df))\n",
    "        self.notes = df[lookup[name][0]+1:lookup[name][0]+2][4].item()\n",
    "        if pd.isna(self.notes):\n",
    "            self.notes = None\n",
    "        Species.clean_data(self, lookup[name][1])\n",
    "        \n",
    "    def __repr__(self):\n",
    "        return '{}: {} data entries, notes: {}'.format(self.name, len(self.data), self.notes)\n",
    "    \n",
    "    @staticmethod\n",
    "    def clean_data(s, end):\n",
    "        ix = list(np.where(pd.isna(s.df[6]) == False)[0][::2])\n",
    "        N = len(ix)\n",
    "        ix.append(end)\n",
    "        s.data=[]\n",
    "        for n in range(N):\n",
    "            s.data.append(Data(s.df[ix[n]:ix[n+1]]))\n",
    "        \n",
    "        \n",
    "        "
   ]
  },
  {
   "cell_type": "code",
   "execution_count": 8,
   "metadata": {},
   "outputs": [],
   "source": [
    "SPECIES = {}\n",
    "for s in SPECIES_ix:\n",
    "    SPECIES[s] = Species(s, LXMX, SPECIES_ix)"
   ]
  },
  {
   "cell_type": "code",
   "execution_count": 46,
   "metadata": {},
   "outputs": [
    {
     "ename": "PicklingError",
     "evalue": "Can't pickle <class '__main__.Species'>: it's not the same object as __main__.Species",
     "output_type": "error",
     "traceback": [
      "\u001b[0;31m---------------------------------------------------------------------------\u001b[0m",
      "\u001b[0;31mPicklingError\u001b[0m                             Traceback (most recent call last)",
      "\u001b[0;32m<ipython-input-46-e5f2b2838a4c>\u001b[0m in \u001b[0;36m<module>\u001b[0;34m\u001b[0m\n\u001b[1;32m      1\u001b[0m \u001b[0;32mwith\u001b[0m \u001b[0mopen\u001b[0m\u001b[0;34m(\u001b[0m\u001b[0mos\u001b[0m\u001b[0;34m.\u001b[0m\u001b[0mpath\u001b[0m\u001b[0;34m.\u001b[0m\u001b[0mjoin\u001b[0m\u001b[0;34m(\u001b[0m\u001b[0mOUTPUT_DIR\u001b[0m\u001b[0;34m,\u001b[0m \u001b[0;34m'species.pkl'\u001b[0m\u001b[0;34m)\u001b[0m\u001b[0;34m,\u001b[0m \u001b[0;34m'wb'\u001b[0m\u001b[0;34m)\u001b[0m \u001b[0;32mas\u001b[0m \u001b[0mf\u001b[0m\u001b[0;34m:\u001b[0m\u001b[0;34m\u001b[0m\u001b[0;34m\u001b[0m\u001b[0m\n\u001b[0;32m----> 2\u001b[0;31m     \u001b[0mpickle\u001b[0m\u001b[0;34m.\u001b[0m\u001b[0mdump\u001b[0m\u001b[0;34m(\u001b[0m\u001b[0mSPECIES\u001b[0m\u001b[0;34m,\u001b[0m \u001b[0mf\u001b[0m\u001b[0;34m,\u001b[0m \u001b[0mfix_imports\u001b[0m\u001b[0;34m=\u001b[0m\u001b[0;32mTrue\u001b[0m\u001b[0;34m)\u001b[0m\u001b[0;34m\u001b[0m\u001b[0;34m\u001b[0m\u001b[0m\n\u001b[0m",
      "\u001b[0;31mPicklingError\u001b[0m: Can't pickle <class '__main__.Species'>: it's not the same object as __main__.Species"
     ]
    }
   ],
   "source": [
    "with open(os.path.join(OUTPUT_DIR, 'species.pkl'), 'wb') as f:\n",
    "    pickle.dump(SPECIES, f)"
   ]
  },
  {
   "cell_type": "markdown",
   "metadata": {},
   "source": [
    "## Working with the Species objects\n",
    "\n",
    "You can list the keys with the following code (splice at the end is for the sake of limiting output), "
   ]
  },
  {
   "cell_type": "code",
   "execution_count": 32,
   "metadata": {},
   "outputs": [
    {
     "data": {
      "text/plain": [
       "['Spermophilus columbianus',\n",
       " 'Spermophilus lateralis',\n",
       " 'Theropithecus gelada',\n",
       " 'Yellow-bellied marmot',\n",
       " 'Spermophilus armatus',\n",
       " 'Tursiops truncatus',\n",
       " 'Papio cynocephalus',\n",
       " 'Helogale parvula',\n",
       " 'Callorhinus ursinus',\n",
       " 'Phacochoerus aethiopicus']"
      ]
     },
     "execution_count": 32,
     "metadata": {},
     "output_type": "execute_result"
    }
   ],
   "source": [
    "list(SPECIES.keys())[0:10]"
   ]
  },
  {
   "cell_type": "markdown",
   "metadata": {},
   "source": [
    "and access the Species object as such."
   ]
  },
  {
   "cell_type": "code",
   "execution_count": 38,
   "metadata": {},
   "outputs": [
    {
     "data": {
      "text/plain": [
       "Papio cynocephalus: 1 data entries, notes: CMR"
      ]
     },
     "execution_count": 38,
     "metadata": {},
     "output_type": "execute_result"
    }
   ],
   "source": [
    "SPECIES['Papio cynocephalus']"
   ]
  },
  {
   "cell_type": "code",
   "execution_count": 40,
   "metadata": {},
   "outputs": [
    {
     "data": {
      "text/plain": [
       "[Caughley 1970]"
      ]
     },
     "execution_count": 40,
     "metadata": {},
     "output_type": "execute_result"
    }
   ],
   "source": [
    "SPECIES['Godley (stationary)'].data"
   ]
  },
  {
   "cell_type": "code",
   "execution_count": 41,
   "metadata": {},
   "outputs": [
    {
     "data": {
      "text/html": [
       "<div>\n",
       "<style scoped>\n",
       "    .dataframe tbody tr th:only-of-type {\n",
       "        vertical-align: middle;\n",
       "    }\n",
       "\n",
       "    .dataframe tbody tr th {\n",
       "        vertical-align: top;\n",
       "    }\n",
       "\n",
       "    .dataframe thead th {\n",
       "        text-align: right;\n",
       "    }\n",
       "</style>\n",
       "<table border=\"1\" class=\"dataframe\">\n",
       "  <thead>\n",
       "    <tr style=\"text-align: right;\">\n",
       "      <th></th>\n",
       "      <th>age</th>\n",
       "      <th>lx</th>\n",
       "      <th>mx</th>\n",
       "      <th>s</th>\n",
       "    </tr>\n",
       "  </thead>\n",
       "  <tbody>\n",
       "    <tr>\n",
       "      <th>0</th>\n",
       "      <td>0.0</td>\n",
       "      <td>1.000</td>\n",
       "      <td>0.000</td>\n",
       "      <td>0.467</td>\n",
       "    </tr>\n",
       "    <tr>\n",
       "      <th>1</th>\n",
       "      <td>1.0</td>\n",
       "      <td>0.467</td>\n",
       "      <td>0.005</td>\n",
       "      <td>0.976</td>\n",
       "    </tr>\n",
       "    <tr>\n",
       "      <th>2</th>\n",
       "      <td>2.0</td>\n",
       "      <td>0.456</td>\n",
       "      <td>0.135</td>\n",
       "      <td>0.932</td>\n",
       "    </tr>\n",
       "    <tr>\n",
       "      <th>3</th>\n",
       "      <td>3.0</td>\n",
       "      <td>0.425</td>\n",
       "      <td>0.440</td>\n",
       "      <td>0.871</td>\n",
       "    </tr>\n",
       "    <tr>\n",
       "      <th>4</th>\n",
       "      <td>4.0</td>\n",
       "      <td>0.370</td>\n",
       "      <td>0.420</td>\n",
       "      <td>0.841</td>\n",
       "    </tr>\n",
       "    <tr>\n",
       "      <th>5</th>\n",
       "      <td>5.0</td>\n",
       "      <td>0.311</td>\n",
       "      <td>0.465</td>\n",
       "      <td>0.791</td>\n",
       "    </tr>\n",
       "    <tr>\n",
       "      <th>6</th>\n",
       "      <td>6.0</td>\n",
       "      <td>0.246</td>\n",
       "      <td>0.425</td>\n",
       "      <td>0.764</td>\n",
       "    </tr>\n",
       "    <tr>\n",
       "      <th>7</th>\n",
       "      <td>7.0</td>\n",
       "      <td>0.188</td>\n",
       "      <td>0.460</td>\n",
       "      <td>0.8</td>\n",
       "    </tr>\n",
       "    <tr>\n",
       "      <th>8</th>\n",
       "      <td>8.0</td>\n",
       "      <td>0.139</td>\n",
       "      <td>0.486</td>\n",
       "      <td>0.719</td>\n",
       "    </tr>\n",
       "    <tr>\n",
       "      <th>9</th>\n",
       "      <td>9.0</td>\n",
       "      <td>0.100</td>\n",
       "      <td>0.500</td>\n",
       "      <td>0.7</td>\n",
       "    </tr>\n",
       "    <tr>\n",
       "      <th>10</th>\n",
       "      <td>10.0</td>\n",
       "      <td>0.070</td>\n",
       "      <td>0.500</td>\n",
       "      <td>0.686</td>\n",
       "    </tr>\n",
       "    <tr>\n",
       "      <th>11</th>\n",
       "      <td>11.0</td>\n",
       "      <td>0.048</td>\n",
       "      <td>0.411</td>\n",
       "      <td>0.667</td>\n",
       "    </tr>\n",
       "    <tr>\n",
       "      <th>12</th>\n",
       "      <td>12.0</td>\n",
       "      <td>0.032</td>\n",
       "      <td>0.411</td>\n",
       "      <td>0.467</td>\n",
       "    </tr>\n",
       "  </tbody>\n",
       "</table>\n",
       "</div>"
      ],
      "text/plain": [
       "     age     lx     mx      s\n",
       "0    0.0  1.000  0.000  0.467\n",
       "1    1.0  0.467  0.005  0.976\n",
       "2    2.0  0.456  0.135  0.932\n",
       "3    3.0  0.425  0.440  0.871\n",
       "4    4.0  0.370  0.420  0.841\n",
       "5    5.0  0.311  0.465  0.791\n",
       "6    6.0  0.246  0.425  0.764\n",
       "7    7.0  0.188  0.460    0.8\n",
       "8    8.0  0.139  0.486  0.719\n",
       "9    9.0  0.100  0.500    0.7\n",
       "10  10.0  0.070  0.500  0.686\n",
       "11  11.0  0.048  0.411  0.667\n",
       "12  12.0  0.032  0.411  0.467"
      ]
     },
     "execution_count": 41,
     "metadata": {},
     "output_type": "execute_result"
    }
   ],
   "source": [
    "SPECIES['Godley (stationary)'].data[0].matrix"
   ]
  },
  {
   "cell_type": "code",
   "execution_count": null,
   "metadata": {},
   "outputs": [],
   "source": []
  }
 ],
 "metadata": {
  "kernelspec": {
   "display_name": "bio177_3.6",
   "language": "python",
   "name": "bio177_3.6"
  },
  "language_info": {
   "codemirror_mode": {
    "name": "ipython",
    "version": 3
   },
   "file_extension": ".py",
   "mimetype": "text/x-python",
   "name": "python",
   "nbconvert_exporter": "python",
   "pygments_lexer": "ipython3",
   "version": "3.6.8"
  }
 },
 "nbformat": 4,
 "nbformat_minor": 2
}
