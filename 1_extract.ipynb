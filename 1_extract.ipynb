{
 "cells": [
  {
   "cell_type": "code",
   "execution_count": 29,
   "metadata": {},
   "outputs": [],
   "source": [
    "import os, config, pickle, numpy as np, pandas as pd"
   ]
  },
  {
   "cell_type": "markdown",
   "metadata": {},
   "source": [
    "# Extracting lxmx data for analysis\n",
    "\n",
    "You will need the following packages installed to be able to run the notebook."
   ]
  },
  {
   "cell_type": "code",
   "execution_count": 30,
   "metadata": {},
   "outputs": [],
   "source": [
    "LXMX = pd.read_excel(os.path.join(config.DATA_DIR, config.LXMX_FILENAME), index_col=None, header=None)"
   ]
  },
  {
   "cell_type": "markdown",
   "metadata": {},
   "source": [
    "## Find the species: \n",
    "* store their names \n",
    "* slice indices in the DataFrame"
   ]
  },
  {
   "cell_type": "code",
   "execution_count": 31,
   "metadata": {},
   "outputs": [],
   "source": [
    "def find_species(df):\n",
    "    species_ix = np.where(pd.isna(df[config.SPECIES_COL]) == False)[0]\n",
    "    prev_index = -100\n",
    "    fixed_species_ix = []\n",
    "    for ix in species_ix:\n",
    "            if ix-1 == prev_index:\n",
    "                continue\n",
    "            else:\n",
    "                fixed_species_ix.append(ix)\n",
    "                prev_index = ix\n",
    "    species_names = list(df[config.SPECIES_COL][fixed_species_ix])\n",
    "    fixed_species_ix.append(len(df))\n",
    "    species_ix = np.array(fixed_species_ix)\n",
    "    species = {}\n",
    "    for i in range(len(species_names)):\n",
    "        s = species_names[i]\n",
    "        species[s] = (species_ix[i], species_ix[i+1]) \n",
    "    return species"
   ]
  },
  {
   "cell_type": "code",
   "execution_count": 32,
   "metadata": {},
   "outputs": [],
   "source": [
    "SPECIES_ix = find_species(LXMX)"
   ]
  },
  {
   "cell_type": "markdown",
   "metadata": {},
   "source": [
    "## Auxillary classes\n",
    "\n",
    "#### Data\n",
    "The Data object stores the matrices, the life history variables, and the auhtor/collector of the data entry as mentioned in the xls."
   ]
  },
  {
   "cell_type": "code",
   "execution_count": 43,
   "metadata": {},
   "outputs": [],
   "source": [
    "class Data:\n",
    "    def __init__(self, df):\n",
    "        cols = ['age', 'l(a)', 'f(a)', 'p(a)']\n",
    "        L = len(df)\n",
    "        df.index = range(L)\n",
    "        self.matrix =df.loc[0:L-2, 0:3]\n",
    "        self.matrix.columns = cols\n",
    "        self.matrix.index = self.matrix['age']\n",
    "        self.matrix = self.matrix[cols[1:]]\n",
    "        self.matrix = self.matrix.fillna(0.)\n",
    "        self.author = df[L-1:L][7].item()\n",
    "        self.vars = df.loc[0:1, 5:6]\n",
    "        self.vars.columns = ['0', '1']\n",
    "       \n",
    "    @property\n",
    "    def ages(self):\n",
    "        return self.matrix.index.to_numpy()\n",
    "        \n",
    "    def __repr__(self):\n",
    "        return self.author"
   ]
  },
  {
   "cell_type": "markdown",
   "metadata": {},
   "source": [
    "#### Species\n",
    "Species object contains the raw DataFrame slice of all of the species data entries, as well as the name and notes (if present)."
   ]
  },
  {
   "cell_type": "code",
   "execution_count": 44,
   "metadata": {},
   "outputs": [],
   "source": [
    "class Species:\n",
    "    def __init__(self, name, df, lookup):\n",
    "        self.name = name\n",
    "        self.df = df[lookup[name][0]:lookup[name][1]]\n",
    "        self.df.index = range(len(self.df))\n",
    "        self.notes = df[lookup[name][0]+1:lookup[name][0]+2][4].item()\n",
    "        if pd.isna(self.notes):\n",
    "            self.notes = None\n",
    "        Species.clean_data(self, lookup[name][1])\n",
    "        \n",
    "    def __repr__(self):\n",
    "        return '{}: {} data entries, notes: {}'.format(self.name, len(self.data), self.notes)\n",
    "    \n",
    "    @staticmethod\n",
    "    def clean_data(s, end):\n",
    "        ix = list(np.where(pd.isna(s.df[6]) == False)[0][::2])\n",
    "        N = len(ix)\n",
    "        ix.append(end)\n",
    "        s.data=[]\n",
    "        for n in range(N):\n",
    "            s.data.append(Data(s.df[ix[n]:ix[n+1]]))"
   ]
  },
  {
   "cell_type": "code",
   "execution_count": 45,
   "metadata": {},
   "outputs": [],
   "source": [
    "SPECIES = {}\n",
    "for s in SPECIES_ix:\n",
    "    SPECIES[s] = Species(s, LXMX, SPECIES_ix)"
   ]
  },
  {
   "cell_type": "code",
   "execution_count": 49,
   "metadata": {},
   "outputs": [],
   "source": [
    "save = True\n",
    "if save:\n",
    "    with open(os.path.join(config.OUTPUT_DIR, 'species.pkl'), 'wb') as f:\n",
    "        pickle.dump(SPECIES, f)"
   ]
  },
  {
   "cell_type": "markdown",
   "metadata": {},
   "source": [
    "## Working with the Species objects\n",
    "\n",
    "You can list the keys with the following code (splice at the end is for the sake of limiting output), "
   ]
  },
  {
   "cell_type": "code",
   "execution_count": 47,
   "metadata": {},
   "outputs": [
    {
     "data": {
      "text/plain": [
       "['Spermophilus columbianus',\n",
       " 'Spermophilus lateralis',\n",
       " 'Theropithecus gelada',\n",
       " 'Yellow-bellied marmot',\n",
       " 'Spermophilus armatus',\n",
       " 'Tursiops truncatus',\n",
       " 'Papio cynocephalus',\n",
       " 'Helogale parvula',\n",
       " 'Callorhinus ursinus',\n",
       " 'Phacochoerus aethiopicus']"
      ]
     },
     "execution_count": 47,
     "metadata": {},
     "output_type": "execute_result"
    }
   ],
   "source": [
    "list(SPECIES.keys())[0:10]"
   ]
  },
  {
   "cell_type": "markdown",
   "metadata": {},
   "source": [
    "and access the Species object as such."
   ]
  },
  {
   "cell_type": "code",
   "execution_count": 48,
   "metadata": {},
   "outputs": [
    {
     "data": {
      "text/html": [
       "<div>\n",
       "<style scoped>\n",
       "    .dataframe tbody tr th:only-of-type {\n",
       "        vertical-align: middle;\n",
       "    }\n",
       "\n",
       "    .dataframe tbody tr th {\n",
       "        vertical-align: top;\n",
       "    }\n",
       "\n",
       "    .dataframe thead th {\n",
       "        text-align: right;\n",
       "    }\n",
       "</style>\n",
       "<table border=\"1\" class=\"dataframe\">\n",
       "  <thead>\n",
       "    <tr style=\"text-align: right;\">\n",
       "      <th></th>\n",
       "      <th>l(a)</th>\n",
       "      <th>f(a)</th>\n",
       "      <th>p(a)</th>\n",
       "    </tr>\n",
       "    <tr>\n",
       "      <th>age</th>\n",
       "      <th></th>\n",
       "      <th></th>\n",
       "      <th></th>\n",
       "    </tr>\n",
       "  </thead>\n",
       "  <tbody>\n",
       "    <tr>\n",
       "      <th>1.0</th>\n",
       "      <td>0.615000</td>\n",
       "      <td>0.000</td>\n",
       "      <td>0.902</td>\n",
       "    </tr>\n",
       "    <tr>\n",
       "      <th>2.0</th>\n",
       "      <td>0.554730</td>\n",
       "      <td>0.000</td>\n",
       "      <td>0.962</td>\n",
       "    </tr>\n",
       "    <tr>\n",
       "      <th>3.0</th>\n",
       "      <td>0.533650</td>\n",
       "      <td>0.086</td>\n",
       "      <td>0.956</td>\n",
       "    </tr>\n",
       "    <tr>\n",
       "      <th>4.0</th>\n",
       "      <td>0.510170</td>\n",
       "      <td>0.202</td>\n",
       "      <td>0.956</td>\n",
       "    </tr>\n",
       "    <tr>\n",
       "      <th>5.0</th>\n",
       "      <td>0.487720</td>\n",
       "      <td>0.241</td>\n",
       "      <td>0.949</td>\n",
       "    </tr>\n",
       "    <tr>\n",
       "      <th>6.0</th>\n",
       "      <td>0.462850</td>\n",
       "      <td>0.209</td>\n",
       "      <td>0.939</td>\n",
       "    </tr>\n",
       "    <tr>\n",
       "      <th>7.0</th>\n",
       "      <td>0.434610</td>\n",
       "      <td>0.212</td>\n",
       "      <td>0.971</td>\n",
       "    </tr>\n",
       "    <tr>\n",
       "      <th>8.0</th>\n",
       "      <td>0.422010</td>\n",
       "      <td>0.215</td>\n",
       "      <td>0.982</td>\n",
       "    </tr>\n",
       "    <tr>\n",
       "      <th>9.0</th>\n",
       "      <td>0.414410</td>\n",
       "      <td>0.219</td>\n",
       "      <td>0.942</td>\n",
       "    </tr>\n",
       "    <tr>\n",
       "      <th>10.0</th>\n",
       "      <td>0.390380</td>\n",
       "      <td>0.225</td>\n",
       "      <td>0.941</td>\n",
       "    </tr>\n",
       "    <tr>\n",
       "      <th>11.0</th>\n",
       "      <td>0.367350</td>\n",
       "      <td>0.206</td>\n",
       "      <td>0.881</td>\n",
       "    </tr>\n",
       "    <tr>\n",
       "      <th>12.0</th>\n",
       "      <td>0.323630</td>\n",
       "      <td>0.231</td>\n",
       "      <td>0.820</td>\n",
       "    </tr>\n",
       "    <tr>\n",
       "      <th>13.0</th>\n",
       "      <td>0.265380</td>\n",
       "      <td>0.249</td>\n",
       "      <td>0.837</td>\n",
       "    </tr>\n",
       "    <tr>\n",
       "      <th>14.0</th>\n",
       "      <td>0.222120</td>\n",
       "      <td>0.190</td>\n",
       "      <td>0.755</td>\n",
       "    </tr>\n",
       "    <tr>\n",
       "      <th>15.0</th>\n",
       "      <td>0.167700</td>\n",
       "      <td>0.142</td>\n",
       "      <td>0.639</td>\n",
       "    </tr>\n",
       "    <tr>\n",
       "      <th>16.0</th>\n",
       "      <td>0.107160</td>\n",
       "      <td>0.082</td>\n",
       "      <td>0.498</td>\n",
       "    </tr>\n",
       "    <tr>\n",
       "      <th>17.0</th>\n",
       "      <td>0.053366</td>\n",
       "      <td>0.062</td>\n",
       "      <td>0.405</td>\n",
       "    </tr>\n",
       "    <tr>\n",
       "      <th>18.0</th>\n",
       "      <td>0.021610</td>\n",
       "      <td>0.078</td>\n",
       "      <td>0.238</td>\n",
       "    </tr>\n",
       "    <tr>\n",
       "      <th>19.0</th>\n",
       "      <td>0.005140</td>\n",
       "      <td>0.025</td>\n",
       "      <td>0.000</td>\n",
       "    </tr>\n",
       "  </tbody>\n",
       "</table>\n",
       "</div>"
      ],
      "text/plain": [
       "          l(a)   f(a)   p(a)\n",
       "age                         \n",
       "1.0   0.615000  0.000  0.902\n",
       "2.0   0.554730  0.000  0.962\n",
       "3.0   0.533650  0.086  0.956\n",
       "4.0   0.510170  0.202  0.956\n",
       "5.0   0.487720  0.241  0.949\n",
       "6.0   0.462850  0.209  0.939\n",
       "7.0   0.434610  0.212  0.971\n",
       "8.0   0.422010  0.215  0.982\n",
       "9.0   0.414410  0.219  0.942\n",
       "10.0  0.390380  0.225  0.941\n",
       "11.0  0.367350  0.206  0.881\n",
       "12.0  0.323630  0.231  0.820\n",
       "13.0  0.265380  0.249  0.837\n",
       "14.0  0.222120  0.190  0.755\n",
       "15.0  0.167700  0.142  0.639\n",
       "16.0  0.107160  0.082  0.498\n",
       "17.0  0.053366  0.062  0.405\n",
       "18.0  0.021610  0.078  0.238\n",
       "19.0  0.005140  0.025  0.000"
      ]
     },
     "execution_count": 48,
     "metadata": {},
     "output_type": "execute_result"
    }
   ],
   "source": [
    "SPECIES['Red deer'].data[0].matrix"
   ]
  },
  {
   "cell_type": "code",
   "execution_count": 41,
   "metadata": {},
   "outputs": [
    {
     "data": {
      "text/plain": [
       "[Kaluzinski 1982, Johnson 1982]"
      ]
     },
     "execution_count": 41,
     "metadata": {},
     "output_type": "execute_result"
    }
   ],
   "source": [
    "SPECIES['Capreolus capreolus'].data"
   ]
  },
  {
   "cell_type": "code",
   "execution_count": 25,
   "metadata": {},
   "outputs": [
    {
     "data": {
      "text/html": [
       "<div>\n",
       "<style scoped>\n",
       "    .dataframe tbody tr th:only-of-type {\n",
       "        vertical-align: middle;\n",
       "    }\n",
       "\n",
       "    .dataframe tbody tr th {\n",
       "        vertical-align: top;\n",
       "    }\n",
       "\n",
       "    .dataframe thead th {\n",
       "        text-align: right;\n",
       "    }\n",
       "</style>\n",
       "<table border=\"1\" class=\"dataframe\">\n",
       "  <thead>\n",
       "    <tr style=\"text-align: right;\">\n",
       "      <th></th>\n",
       "      <th>l(a)</th>\n",
       "      <th>f(a)</th>\n",
       "      <th>p(a)</th>\n",
       "    </tr>\n",
       "    <tr>\n",
       "      <th>age</th>\n",
       "      <th></th>\n",
       "      <th></th>\n",
       "      <th></th>\n",
       "    </tr>\n",
       "  </thead>\n",
       "  <tbody>\n",
       "    <tr>\n",
       "      <th>0.0</th>\n",
       "      <td>1.000</td>\n",
       "      <td>0.000</td>\n",
       "      <td>0.51</td>\n",
       "    </tr>\n",
       "    <tr>\n",
       "      <th>1.0</th>\n",
       "      <td>0.502</td>\n",
       "      <td>0.000</td>\n",
       "      <td>0.95</td>\n",
       "    </tr>\n",
       "    <tr>\n",
       "      <th>2.0</th>\n",
       "      <td>0.476</td>\n",
       "      <td>1.000</td>\n",
       "      <td>0.93</td>\n",
       "    </tr>\n",
       "    <tr>\n",
       "      <th>3.0</th>\n",
       "      <td>0.442</td>\n",
       "      <td>0.885</td>\n",
       "      <td>0.93</td>\n",
       "    </tr>\n",
       "    <tr>\n",
       "      <th>4.0</th>\n",
       "      <td>0.395</td>\n",
       "      <td>1.000</td>\n",
       "      <td>0.88</td>\n",
       "    </tr>\n",
       "    <tr>\n",
       "      <th>5.0</th>\n",
       "      <td>0.349</td>\n",
       "      <td>1.270</td>\n",
       "      <td>0.87</td>\n",
       "    </tr>\n",
       "    <tr>\n",
       "      <th>6.0</th>\n",
       "      <td>0.297</td>\n",
       "      <td>1.000</td>\n",
       "      <td>0.83</td>\n",
       "    </tr>\n",
       "    <tr>\n",
       "      <th>7.0</th>\n",
       "      <td>0.246</td>\n",
       "      <td>1.000</td>\n",
       "      <td>0.8</td>\n",
       "    </tr>\n",
       "    <tr>\n",
       "      <th>8.0</th>\n",
       "      <td>0.170</td>\n",
       "      <td>0.890</td>\n",
       "      <td>0.56</td>\n",
       "    </tr>\n",
       "    <tr>\n",
       "      <th>10.0</th>\n",
       "      <td>0.063</td>\n",
       "      <td>0.865</td>\n",
       "      <td>0.371</td>\n",
       "    </tr>\n",
       "    <tr>\n",
       "      <th>15.0</th>\n",
       "      <td>0.000</td>\n",
       "      <td>0.800</td>\n",
       "      <td>0</td>\n",
       "    </tr>\n",
       "  </tbody>\n",
       "</table>\n",
       "</div>"
      ],
      "text/plain": [
       "       l(a)   f(a)   p(a)\n",
       "age                      \n",
       "0.0   1.000  0.000   0.51\n",
       "1.0   0.502  0.000   0.95\n",
       "2.0   0.476  1.000   0.93\n",
       "3.0   0.442  0.885   0.93\n",
       "4.0   0.395  1.000   0.88\n",
       "5.0   0.349  1.270   0.87\n",
       "6.0   0.297  1.000   0.83\n",
       "7.0   0.246  1.000    0.8\n",
       "8.0   0.170  0.890   0.56\n",
       "10.0  0.063  0.865  0.371\n",
       "15.0  0.000  0.800      0"
      ]
     },
     "execution_count": 25,
     "metadata": {},
     "output_type": "execute_result"
    }
   ],
   "source": [
    "SPECIES['Capreolus capreolus'].data[0].matrix"
   ]
  },
  {
   "cell_type": "code",
   "execution_count": 26,
   "metadata": {},
   "outputs": [
    {
     "data": {
      "text/plain": [
       "array([[1.0, 0.0, 0.51],\n",
       "       [0.502, 0.0, 0.95],\n",
       "       [0.476, 1.0, 0.93],\n",
       "       [0.442, 0.885, 0.93],\n",
       "       [0.395, 1.0, 0.88],\n",
       "       [0.349, 1.27, 0.87],\n",
       "       [0.297, 1.0, 0.83],\n",
       "       [0.246, 1.0, 0.8],\n",
       "       [0.17, 0.89, 0.56],\n",
       "       [0.063, 0.865, 0.371],\n",
       "       [0.0, 0.8, 0]], dtype=object)"
      ]
     },
     "execution_count": 26,
     "metadata": {},
     "output_type": "execute_result"
    }
   ],
   "source": [
    "SPECIES['Capreolus capreolus'].data[0].matrix.to_numpy()"
   ]
  },
  {
   "cell_type": "code",
   "execution_count": 27,
   "metadata": {},
   "outputs": [
    {
     "data": {
      "text/plain": [
       "array([ 0.,  1.,  2.,  3.,  4.,  5.,  6.,  7.,  8., 10., 15.])"
      ]
     },
     "execution_count": 27,
     "metadata": {},
     "output_type": "execute_result"
    }
   ],
   "source": [
    "SPECIES['Capreolus capreolus'].data[0].ages"
   ]
  }
 ],
 "metadata": {
  "kernelspec": {
   "display_name": "bio172_3.6",
   "language": "python",
   "name": "bio172_3.6"
  },
  "language_info": {
   "codemirror_mode": {
    "name": "ipython",
    "version": 3
   },
   "file_extension": ".py",
   "mimetype": "text/x-python",
   "name": "python",
   "nbconvert_exporter": "python",
   "pygments_lexer": "ipython3",
   "version": "3.6.8"
  }
 },
 "nbformat": 4,
 "nbformat_minor": 2
}
