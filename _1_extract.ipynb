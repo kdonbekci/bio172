{
 "cells": [
  {
   "cell_type": "code",
   "execution_count": 1,
   "metadata": {},
   "outputs": [],
   "source": [
    "import os, config, numpy as np, pandas as pd"
   ]
  },
  {
   "cell_type": "markdown",
   "metadata": {},
   "source": [
    "# Extracting lxmx data for analysis\n",
    "\n",
    "You will need the following packages installed to be able to run the notebook."
   ]
  },
  {
   "cell_type": "code",
   "execution_count": 2,
   "metadata": {},
   "outputs": [],
   "source": [
    "LXMX = pd.read_excel(os.path.join(config.DATA_DIR, config.LXMX_FILENAME), index_col=None, header=None)"
   ]
  },
  {
   "cell_type": "markdown",
   "metadata": {},
   "source": [
    "## Find the species: \n",
    "* store their names \n",
    "* slice indices in the DataFrame"
   ]
  },
  {
   "cell_type": "code",
   "execution_count": 3,
   "metadata": {},
   "outputs": [],
   "source": [
    "def find_species(df):\n",
    "    species_ix = np.where(pd.isna(df[config.SPECIES_COL]) == False)[0]\n",
    "    prev_index = -100\n",
    "    fixed_species_ix = []\n",
    "    for ix in species_ix:\n",
    "            if ix-1 == prev_index:\n",
    "                continue\n",
    "            else:\n",
    "                fixed_species_ix.append(ix)\n",
    "                prev_index = ix\n",
    "    species_names = list(df[config.SPECIES_COL][fixed_species_ix])\n",
    "    fixed_species_ix.append(len(df))\n",
    "    species_ix = np.array(fixed_species_ix)\n",
    "    species = {}\n",
    "    for i in range(len(species_names)):\n",
    "        s = species_names[i]\n",
    "        species[s] = (species_ix[i], species_ix[i+1]) \n",
    "    return species"
   ]
  },
  {
   "cell_type": "code",
   "execution_count": 4,
   "metadata": {},
   "outputs": [],
   "source": [
    "SPECIES_ix = find_species(LXMX)"
   ]
  },
  {
   "cell_type": "markdown",
   "metadata": {},
   "source": [
    "## Auxillary classes\n",
    "\n",
    "#### Data\n",
    "The Data object stores the matrices, the life history variables, and the auhtor/collector of the data entry as mentioned in the xls."
   ]
  },
  {
   "cell_type": "code",
   "execution_count": 5,
   "metadata": {},
   "outputs": [],
   "source": [
    "class Data(object):\n",
    "    def __init__(self, df):\n",
    "        cols = ['age', 'l(a)', 'f(a)', 'p(a)']\n",
    "        L = len(df)\n",
    "        df.index = range(L)\n",
    "        self.matrix =df.loc[0:L-2, 0:3]\n",
    "        self.matrix.columns = cols\n",
    "        self.matrix.index = self.matrix['age']\n",
    "        self.matrix = self.matrix[cols[1:]]\n",
    "        self.matrix = self.matrix.fillna(0.)\n",
    "        self.author = df[L-1:L][7].item()\n",
    "        derivatives = df.loc[0:1, 5:6]\n",
    "        self.reported = {'T_c':[]}\n",
    "        x = list(derivatives.to_numpy()[0])\n",
    "        y = list(derivatives.to_numpy()[1])\n",
    "        self.reported['T_c'].append(None if pd.isna(x[0]) else float(x[0][3:].replace(',', '.')))    \n",
    "        self.reported['T_c'].append(float(x[1][3:].replace(',', '.')))\n",
    "        self.reported['V'] = float(y[1][7:].replace(',', '.'))\n",
    "        self.reported['R_0'] = None if pd.isna(y[0]) else float(y[0][3:].replace(',', '.'))\n",
    "       \n",
    "    @property\n",
    "    def ages(self):\n",
    "        return self.matrix.index.to_numpy()\n",
    "        \n",
    "    def __repr__(self):\n",
    "        return self.author"
   ]
  },
  {
   "cell_type": "markdown",
   "metadata": {},
   "source": [
    "#### Species\n",
    "Species object contains the raw DataFrame slice of all of the species data entries, as well as the name and notes (if present)."
   ]
  },
  {
   "cell_type": "code",
   "execution_count": 6,
   "metadata": {},
   "outputs": [],
   "source": [
    "class Species(object):\n",
    "    def __init__(self, name, df, lookup):\n",
    "        self.name = name\n",
    "        self.df = df[lookup[name][0]:lookup[name][1]]\n",
    "        self.df.index = range(len(self.df))\n",
    "        self.notes = df[lookup[name][0]+1:lookup[name][0]+2][4].item()\n",
    "        if pd.isna(self.notes):\n",
    "            self.notes = []\n",
    "        else:\n",
    "            self.notes = self.notes.split(',')\n",
    "        Species.clean_data(self, lookup[name][1])\n",
    "        \n",
    "    def __repr__(self):\n",
    "        return '{}: {} data entries, notes: {}'.format(self.name, len(self.data), self.notes)\n",
    "    \n",
    "    @staticmethod\n",
    "    def clean_data(s, end):\n",
    "        ix = list(np.where(pd.isna(s.df[6]) == False)[0][::2])\n",
    "        N = len(ix)\n",
    "        ix.append(end)\n",
    "        s.data=[]\n",
    "        for n in range(N):\n",
    "            s.data.append(Data(s.df[ix[n]:ix[n+1]]))"
   ]
  },
  {
   "cell_type": "code",
   "execution_count": 7,
   "metadata": {},
   "outputs": [],
   "source": [
    "SPECIES = {}\n",
    "for s in SPECIES_ix:\n",
    "    SPECIES[s] = Species(s, LXMX, SPECIES_ix)"
   ]
  },
  {
   "cell_type": "markdown",
   "metadata": {},
   "source": [
    "Save the final SPECIES dictionary for future use."
   ]
  },
  {
   "cell_type": "code",
   "execution_count": 8,
   "metadata": {},
   "outputs": [],
   "source": [
    "save = True\n",
    "if save:\n",
    "    config.save_pickle(SPECIES, os.path.join(config.OUTPUT_DIR, 'species.pkl'))"
   ]
  },
  {
   "cell_type": "markdown",
   "metadata": {},
   "source": [
    "## Working with the Species objects\n",
    "\n",
    "You can list the keys with the following code (splice at the end is for the sake of limiting output), "
   ]
  },
  {
   "cell_type": "code",
   "execution_count": 9,
   "metadata": {},
   "outputs": [
    {
     "data": {
      "text/plain": [
       "['Spermophilus columbianus',\n",
       " 'Spermophilus lateralis',\n",
       " 'Theropithecus gelada',\n",
       " 'Yellow-bellied marmot',\n",
       " 'Spermophilus armatus',\n",
       " 'Tursiops truncatus',\n",
       " 'Papio cynocephalus',\n",
       " 'Helogale parvula',\n",
       " 'Callorhinus ursinus',\n",
       " 'Phacochoerus aethiopicus']"
      ]
     },
     "execution_count": 9,
     "metadata": {},
     "output_type": "execute_result"
    }
   ],
   "source": [
    "list(SPECIES.keys())[0:10]"
   ]
  },
  {
   "cell_type": "markdown",
   "metadata": {},
   "source": [
    "and access the Species object as such."
   ]
  },
  {
   "cell_type": "code",
   "execution_count": 10,
   "metadata": {},
   "outputs": [
    {
     "data": {
      "text/plain": [
       "Capreolus capreolus: 2 data entries, notes: []"
      ]
     },
     "execution_count": 10,
     "metadata": {},
     "output_type": "execute_result"
    }
   ],
   "source": [
    "SPECIES['Capreolus capreolus']"
   ]
  },
  {
   "cell_type": "code",
   "execution_count": 11,
   "metadata": {},
   "outputs": [
    {
     "data": {
      "text/plain": [
       "[Kaluzinski 1982, Johnson 1982]"
      ]
     },
     "execution_count": 11,
     "metadata": {},
     "output_type": "execute_result"
    }
   ],
   "source": [
    "SPECIES['Capreolus capreolus'].data"
   ]
  },
  {
   "cell_type": "code",
   "execution_count": 12,
   "metadata": {},
   "outputs": [
    {
     "data": {
      "text/html": [
       "<div>\n",
       "<style scoped>\n",
       "    .dataframe tbody tr th:only-of-type {\n",
       "        vertical-align: middle;\n",
       "    }\n",
       "\n",
       "    .dataframe tbody tr th {\n",
       "        vertical-align: top;\n",
       "    }\n",
       "\n",
       "    .dataframe thead th {\n",
       "        text-align: right;\n",
       "    }\n",
       "</style>\n",
       "<table border=\"1\" class=\"dataframe\">\n",
       "  <thead>\n",
       "    <tr style=\"text-align: right;\">\n",
       "      <th></th>\n",
       "      <th>l(a)</th>\n",
       "      <th>f(a)</th>\n",
       "      <th>p(a)</th>\n",
       "    </tr>\n",
       "    <tr>\n",
       "      <th>age</th>\n",
       "      <th></th>\n",
       "      <th></th>\n",
       "      <th></th>\n",
       "    </tr>\n",
       "  </thead>\n",
       "  <tbody>\n",
       "    <tr>\n",
       "      <th>0.0</th>\n",
       "      <td>1.000</td>\n",
       "      <td>0.000</td>\n",
       "      <td>0.510</td>\n",
       "    </tr>\n",
       "    <tr>\n",
       "      <th>1.0</th>\n",
       "      <td>0.502</td>\n",
       "      <td>0.000</td>\n",
       "      <td>0.950</td>\n",
       "    </tr>\n",
       "    <tr>\n",
       "      <th>2.0</th>\n",
       "      <td>0.476</td>\n",
       "      <td>1.000</td>\n",
       "      <td>0.930</td>\n",
       "    </tr>\n",
       "    <tr>\n",
       "      <th>3.0</th>\n",
       "      <td>0.442</td>\n",
       "      <td>0.885</td>\n",
       "      <td>0.930</td>\n",
       "    </tr>\n",
       "    <tr>\n",
       "      <th>4.0</th>\n",
       "      <td>0.395</td>\n",
       "      <td>1.000</td>\n",
       "      <td>0.880</td>\n",
       "    </tr>\n",
       "    <tr>\n",
       "      <th>5.0</th>\n",
       "      <td>0.349</td>\n",
       "      <td>1.270</td>\n",
       "      <td>0.870</td>\n",
       "    </tr>\n",
       "    <tr>\n",
       "      <th>6.0</th>\n",
       "      <td>0.297</td>\n",
       "      <td>1.000</td>\n",
       "      <td>0.830</td>\n",
       "    </tr>\n",
       "    <tr>\n",
       "      <th>7.0</th>\n",
       "      <td>0.246</td>\n",
       "      <td>1.000</td>\n",
       "      <td>0.800</td>\n",
       "    </tr>\n",
       "    <tr>\n",
       "      <th>8.0</th>\n",
       "      <td>0.170</td>\n",
       "      <td>0.890</td>\n",
       "      <td>0.560</td>\n",
       "    </tr>\n",
       "    <tr>\n",
       "      <th>10.0</th>\n",
       "      <td>0.063</td>\n",
       "      <td>0.865</td>\n",
       "      <td>0.371</td>\n",
       "    </tr>\n",
       "    <tr>\n",
       "      <th>15.0</th>\n",
       "      <td>0.000</td>\n",
       "      <td>0.800</td>\n",
       "      <td>0.000</td>\n",
       "    </tr>\n",
       "  </tbody>\n",
       "</table>\n",
       "</div>"
      ],
      "text/plain": [
       "       l(a)   f(a)   p(a)\n",
       "age                      \n",
       "0.0   1.000  0.000  0.510\n",
       "1.0   0.502  0.000  0.950\n",
       "2.0   0.476  1.000  0.930\n",
       "3.0   0.442  0.885  0.930\n",
       "4.0   0.395  1.000  0.880\n",
       "5.0   0.349  1.270  0.870\n",
       "6.0   0.297  1.000  0.830\n",
       "7.0   0.246  1.000  0.800\n",
       "8.0   0.170  0.890  0.560\n",
       "10.0  0.063  0.865  0.371\n",
       "15.0  0.000  0.800  0.000"
      ]
     },
     "execution_count": 12,
     "metadata": {},
     "output_type": "execute_result"
    }
   ],
   "source": [
    "SPECIES['Capreolus capreolus'].data[0].matrix"
   ]
  },
  {
   "cell_type": "code",
   "execution_count": 13,
   "metadata": {},
   "outputs": [
    {
     "data": {
      "text/plain": [
       "{'T_c': [None, 4.754], 'V': 4.814, 'R_0': None}"
      ]
     },
     "execution_count": 13,
     "metadata": {},
     "output_type": "execute_result"
    }
   ],
   "source": [
    "SPECIES['Capreolus capreolus'].data[0].reported"
   ]
  },
  {
   "cell_type": "code",
   "execution_count": 14,
   "metadata": {},
   "outputs": [
    {
     "data": {
      "text/plain": [
       "array([ 0.,  1.,  2.,  3.,  4.,  5.,  6.,  7.,  8., 10., 15.])"
      ]
     },
     "execution_count": 14,
     "metadata": {},
     "output_type": "execute_result"
    }
   ],
   "source": [
    "SPECIES['Capreolus capreolus'].data[0].ages"
   ]
  },
  {
   "cell_type": "markdown",
   "metadata": {},
   "source": [
    "## Bugs"
   ]
  },
  {
   "cell_type": "raw",
   "metadata": {},
   "source": [
    "******************************************************************\n",
    "* Connochaetes taurinus albojubatus has entry \"Tc= 5,857/6,356\", *\n",
    "* need to resolve this to a single float.                        *\n",
    "******************************************************************\n",
    "! Resolved: Kept the first one."
   ]
  }
 ],
 "metadata": {
  "kernelspec": {
   "display_name": "bio172_3.6",
   "language": "python",
   "name": "bio172_3.6"
  },
  "language_info": {
   "codemirror_mode": {
    "name": "ipython",
    "version": 3
   },
   "file_extension": ".py",
   "mimetype": "text/x-python",
   "name": "python",
   "nbconvert_exporter": "python",
   "pygments_lexer": "ipython3",
   "version": "3.6.8"
  }
 },
 "nbformat": 4,
 "nbformat_minor": 2
}
