{
 "cells": [
  {
   "cell_type": "code",
   "execution_count": 1,
   "metadata": {},
   "outputs": [
    {
     "name": "stdout",
     "output_type": "stream",
     "text": [
      "Importing Jupyter notebook from _1_extract.ipynb\n"
     ]
    }
   ],
   "source": [
    "import os, config, pickle, nbimporter, random, _1_extract, numpy as np, pandas as pd\n",
    "Species, Data = _1_extract.Species, _1_extract.Data"
   ]
  },
  {
   "cell_type": "markdown",
   "metadata": {},
   "source": [
    "# Processing the lxmx data\n",
    "\n",
    "## Goals:\n",
    "* construct projection matrix $P$ for data\n",
    "* for each $P$ compute dominant & subdominant eigenvalues and their logs, $r, r_1$\n",
    "* for each $P$ compute $T_c, T_g, V, r_{0a}, r_{0b}, d, G, K$ (see theory for reference)"
   ]
  },
  {
   "cell_type": "code",
   "execution_count": 2,
   "metadata": {},
   "outputs": [],
   "source": [
    "SPECIES = config.load_pickle(os.path.join(config.OUTPUT_DIR, 'species.pkl'))"
   ]
  },
  {
   "cell_type": "markdown",
   "metadata": {},
   "source": [
    "## Auxillary Classes\n",
    "\n",
    "#### Processing\n",
    "This class will handle all of the goals mentioned above and augment the Data object created in the data extraction step."
   ]
  },
  {
   "cell_type": "code",
   "execution_count": 3,
   "metadata": {},
   "outputs": [],
   "source": [
    "class Processing:\n",
    "    \n",
    "    @staticmethod\n",
    "    def process(species):\n",
    "        factor = 1\n",
    "        if 'age in months' in species.notes: # for species with age reported in month, I divided the ages by 12\n",
    "            factor = 12\n",
    "        for data in species.data:\n",
    "            matrix = data.matrix\n",
    "            ages = data.ages / factor\n",
    "            l_a = matrix['l(a)'].to_numpy()\n",
    "            f_a = matrix['f(a)'].to_numpy()\n",
    "            p_a = matrix['p(a)'].to_numpy()\n",
    "            data.leslie = Processing.generate_leslie(p_a, f_a)\n",
    "            eigs = Processing.compute_eig(data.leslie)\n",
    "            data.eigen = {'vals': eigs[0], 'right': eigs[1], 'left': eigs[2], 'r_i': eigs[3]}\n",
    "            data.eigen['damping'] = np.exp(data.eigen['r_i'][1] - data.eigen['r_i'][0])\n",
    "            data.derivatives = Processing.compute_derivatives(l_a, f_a, ages, data.eigen)\n",
    "            data.approximations = Processing.compute_approximations(data.derivatives, data.eigen)\n",
    "\n",
    "            \n",
    "    @staticmethod\n",
    "    def generate_leslie(p_a, f_a):\n",
    "        N = p_a.shape[0]\n",
    "        leslie = np.zeros((N, N))\n",
    "        leslie[0] = f_a\n",
    "        np.fill_diagonal(leslie[1:, :-1], p_a)\n",
    "        return leslie\n",
    "\n",
    "    @staticmethod\n",
    "    def compute_eig(leslie):\n",
    "        #RIGHT\n",
    "        r_vals, r_vecs = np.linalg.eig(leslie)\n",
    "        ix_r = r_vals.argsort()\n",
    "        ix_r = ix_r[::-1]\n",
    "        r_vals = r_vals[ix_r]\n",
    "        r_vecs = r_vecs[ix_r]\n",
    "        #LEFT\n",
    "        l_vals, l_vecs = np.linalg.eig(leslie.T)\n",
    "        ix_l = l_vals.argsort()\n",
    "        ix_l = ix_l[::-1]\n",
    "        l_vals = l_vals[ix_l]\n",
    "        l_vecs = l_vecs[ix_l]\n",
    "        assert np.linalg.norm(l_vals - r_vals) < .00001 #check eigenvalues are the same\n",
    "        r_eigs = r_vecs[:2]\n",
    "        l_eigs = l_vecs[:2]\n",
    "        vals = r_vals[:2]\n",
    "        r_i = np.log(np.real(vals))\n",
    "        return vals, r_eigs, l_eigs, r_i \n",
    "    \n",
    "    def compute_approximations(deriv, eig):\n",
    "        approx = {}\n",
    "        approx['d'] = np.exp(-2*np.pi*deriv['V']/deriv['T_c']**3)\n",
    "        approx['r_0a'] = r_0a = np.log(deriv['R_0'])/deriv['T_c'] #without dispersion\n",
    "        approx['r_0b'] = r_0a + deriv['V']*np.log(deriv['R_0'])**2/(deriv['T_c']**3)  #with dispersion\n",
    "        approx['r_1a'] = eig['r_i'][0] - 2 * np.pi / (deriv['T_c']**3)\n",
    "        approx['s_1a'] =  2 * np.pi / deriv['T_c'] - np.pi * deriv['V'] * np.log(deriv['R_0'])/ (deriv['T_c']**3)\n",
    "        return approx\n",
    "    \n",
    "    @staticmethod\n",
    "    def compute_derivatives(l_a, f_a, ages, eigen):\n",
    "        derivatives = {}\n",
    "        derivatives['R_0'] = R_0 = np.sum(l_a * f_a)\n",
    "        derivatives['T_c'] = T_c =  1 / R_0 * np.sum(ages * l_a * f_a)\n",
    "        derivatives['V'] = V = 1 / R_0 * np.sum((ages - T_c)**2 * l_a * f_a)\n",
    "        derivatives['G'] = G = 1 / (R_0 * V**1.5) * np.sum((ages - T_c)**3 * l_a * f_a)\n",
    "        derivatives['K'] = K =  1 / (R_0 * V**2) * np.sum((ages - T_c)**4 * l_a * f_a)\n",
    "        return derivatives\n",
    "    \n",
    "    @staticmethod\n",
    "    def check_derivatives(species):\n",
    "        for data in species.data:\n",
    "            T_c_reported = data.reported['T_c'][1]\n",
    "            R_0_reported = data.reported['R_0']\n",
    "            V_reported = data.reported['V']\n",
    "            exceptions = []\n",
    "            if not (abs(data.derivatives['T_c'] - T_c_reported) < .01):\n",
    "                exceptions.append('T_c calculated: {}, reported: {}'.format(data.derivatives['T_c'], T_c_reported))\n",
    "            if not (R_0_reported is None or abs(data.derivatives['R_0'] - R_0_reported) < .01): \n",
    "                exceptions.append('R_0 calculated: {}, reported: {}'.format(data.derivatives['R_0'], R_0_reported))\n",
    "            if not (V_reported is None or abs(data.derivatives['V'] - V_reported) < .01): \n",
    "                exceptions.append('V calculated: {}, reported: {}'.format(data.derivatives['V'], V_reported))\n",
    "            if len(exceptions) > 0:\n",
    "                combined = '; '\n",
    "                combined = combined.join(exceptions)\n",
    "                raise Exception('For {}, {}'.format(species.name, combined))\n",
    "                "
   ]
  },
  {
   "cell_type": "code",
   "execution_count": 4,
   "metadata": {},
   "outputs": [
    {
     "name": "stdout",
     "output_type": "stream",
     "text": [
      "**********\n",
      "For Spermophilus lateralis, T_c calculated: 3.3807044887780555, reported: 3.511; R_0 calculated: 0.9623999999999999, reported: 0.998; V calculated: 2.2432498777603995, reported: 2.618\n",
      "**********\n",
      "For Lepus europaeus, T_c calculated: 1.1066552581379423, reported: 1.217; V calculated: 0.09527991404947117, reported: 0.264\n",
      "**********\n",
      "For Capreolus capreolus, T_c calculated: 4.555876774257954, reported: 4.754; V calculated: 3.9787695061941166, reported: 4.814\n",
      "**********\n",
      "For Pteropus conspicillatus, T_c calculated: 4.001943479485495, reported: 4.76; V calculated: 4.921872103086531, reported: 3.302\n",
      "**********\n",
      "For Lynx rufus, T_c calculated: 2.169733372399648, reported: 2.67\n",
      "**********\n",
      "For Arctocephalus australis, T_c calculated: 6.323251800587961, reported: 5.823\n",
      "**********\n",
      "For Zapus princeps, T_c calculated: 1.9642274633018801, reported: 2.279; V calculated: 0.6142581144251301, reported: 1.1\n"
     ]
    },
    {
     "name": "stderr",
     "output_type": "stream",
     "text": [
      "/home/kaan/anaconda3/envs/bio172_3.6/lib/python3.6/site-packages/ipykernel_launcher.py:48: RuntimeWarning: invalid value encountered in log\n"
     ]
    }
   ],
   "source": [
    "for s in SPECIES:\n",
    "    Processing.process(SPECIES[s])\n",
    "    try:\n",
    "        Processing.check_derivatives(SPECIES[s])\n",
    "    except Exception as e:\n",
    "        print('**********')\n",
    "        print(e)"
   ]
  },
  {
   "cell_type": "code",
   "execution_count": 12,
   "metadata": {},
   "outputs": [],
   "source": [
    "def export_to_csv(species):\n",
    "    \"\"\"\n",
    "    format of the exported csv file will be: \n",
    "    <identifiers:[species_name, dataset_tag], \n",
    "    eigen:[r_0, r_1, s_1, damping],\n",
    "    derivatives: [R_0, T_c, V, G, >],\n",
    "    approximations: [d, r_0a, r_0b, r_1a, s_1a]>\n",
    "    \n",
    "    right_vec and left_vecs will be comma-concanetaed\n",
    "    \"\"\"\n",
    "    filename = 'processed.csv'\n",
    "    table = []\n",
    "    columns = ['species-name', 'dataset-tag', \n",
    "               'r_0', 'r_1', 's_1', 'damping',\n",
    "               'R_0', 'T_c', 'V', 'G',\n",
    "               'd', 'r_0a', 'r_0b', 'r_1a', 's_1a']\n",
    "    for s in species:\n",
    "        for data in species[s].data:\n",
    "            identifiers = [s, str(data)]\n",
    "            \n",
    "            eigen = [data.eigen['r_i'][0], data.eigen['r_i'][1], np.imag(data.eigen['vals'][1]), \n",
    "                     data.eigen['damping']]\n",
    "            \n",
    "            derivatives = [data.derivatives['R_0'], data.derivatives['T_c'], \n",
    "                           data.derivatives['V'], data.derivatives['G']]\n",
    "            \n",
    "            approximations = [data.approximations['d'], data.approximations['r_0a'],\n",
    "                             data.approximations['r_0b'], data.approximations['r_1a'],\n",
    "                             data.approximations['s_1a']]\n",
    "            \n",
    "            table.append(identifiers + eigen + derivatives + approximations)\n",
    "            \n",
    "    df = pd.DataFrame(table)\n",
    "    df.columns = columns\n",
    "    return df"
   ]
  },
  {
   "cell_type": "code",
   "execution_count": 13,
   "metadata": {},
   "outputs": [],
   "source": [
    "df = export_to_csv(SPECIES)"
   ]
  },
  {
   "cell_type": "code",
   "execution_count": 14,
   "metadata": {},
   "outputs": [],
   "source": [
    "df.to_csv(os.path.join(config.OUTPUT_DIR, 'processed.csv'))"
   ]
  },
  {
   "cell_type": "markdown",
   "metadata": {},
   "source": [
    "## Working with the Species objects\n",
    "\n",
    "You can acccess the calculated derivatives as follows:"
   ]
  },
  {
   "cell_type": "code",
   "execution_count": 15,
   "metadata": {},
   "outputs": [],
   "source": [
    "s = random.choice(list(SPECIES.keys()))"
   ]
  },
  {
   "cell_type": "code",
   "execution_count": 16,
   "metadata": {},
   "outputs": [
    {
     "data": {
      "text/plain": [
       "Sylvilagus floridanus: 1 data entries, notes: ['age in months', 'for 1 litter/year but several are produced (3.5)']"
      ]
     },
     "execution_count": 16,
     "metadata": {},
     "output_type": "execute_result"
    }
   ],
   "source": [
    "SPECIES[s]"
   ]
  },
  {
   "cell_type": "code",
   "execution_count": 17,
   "metadata": {},
   "outputs": [
    {
     "data": {
      "text/plain": [
       "dict_keys(['vals', 'right', 'left', 'r_i', 'damping'])"
      ]
     },
     "execution_count": 17,
     "metadata": {},
     "output_type": "execute_result"
    }
   ],
   "source": [
    "SPECIES[s].data[0].eigen.keys()"
   ]
  },
  {
   "cell_type": "code",
   "execution_count": 18,
   "metadata": {},
   "outputs": [
    {
     "data": {
      "text/plain": [
       "array([0.90492909+0.j        , 0.78104877+0.21997891j])"
      ]
     },
     "execution_count": 18,
     "metadata": {},
     "output_type": "execute_result"
    }
   ],
   "source": [
    "SPECIES[s].data[0].eigen['vals']"
   ]
  },
  {
   "cell_type": "code",
   "execution_count": 19,
   "metadata": {},
   "outputs": [
    {
     "data": {
      "text/plain": [
       "array([-0.09989869, -0.24711768])"
      ]
     },
     "execution_count": 19,
     "metadata": {},
     "output_type": "execute_result"
    }
   ],
   "source": [
    "SPECIES[s].data[0].eigen['r_i']"
   ]
  },
  {
   "cell_type": "code",
   "execution_count": 20,
   "metadata": {},
   "outputs": [
    {
     "data": {
      "text/plain": [
       "0.8631049433681032"
      ]
     },
     "execution_count": 20,
     "metadata": {},
     "output_type": "execute_result"
    }
   ],
   "source": [
    "SPECIES[s].data[0].eigen['damping']"
   ]
  },
  {
   "cell_type": "code",
   "execution_count": 21,
   "metadata": {},
   "outputs": [
    {
     "data": {
      "text/plain": [
       "{'R_0': 0.3875291,\n",
       " 'T_c': 0.7652712187721301,\n",
       " 'V': 0.2513756995192395,\n",
       " 'G': 1.1651721359586804,\n",
       " 'K': 4.180312817265494}"
      ]
     },
     "execution_count": 21,
     "metadata": {},
     "output_type": "execute_result"
    }
   ],
   "source": [
    "SPECIES[s].data[0].derivatives"
   ]
  },
  {
   "cell_type": "code",
   "execution_count": 22,
   "metadata": {},
   "outputs": [
    {
     "data": {
      "text/plain": [
       "{'d': 0.029476221829463467,\n",
       " 'r_0a': -1.2387298946838252,\n",
       " 'r_0b': -0.7346943670544966,\n",
       " 'r_1a': -14.119437518562822,\n",
       " 's_1a': 9.88079764878028}"
      ]
     },
     "execution_count": 22,
     "metadata": {},
     "output_type": "execute_result"
    }
   ],
   "source": [
    "SPECIES[s].data[0].approximations"
   ]
  },
  {
   "cell_type": "code",
   "execution_count": 23,
   "metadata": {},
   "outputs": [
    {
     "data": {
      "text/plain": [
       "{'T_c': [None, 0.763], 'V': 0.253, 'R_0': None}"
      ]
     },
     "execution_count": 23,
     "metadata": {},
     "output_type": "execute_result"
    }
   ],
   "source": [
    "SPECIES[s].data[0].reported"
   ]
  },
  {
   "cell_type": "code",
   "execution_count": 24,
   "metadata": {},
   "outputs": [],
   "source": [
    "save = True\n",
    "if save:\n",
    "    config.save_pickle(SPECIES, os.path.join(config.OUTPUT_DIR, 'species_processed.pkl'))"
   ]
  },
  {
   "cell_type": "markdown",
   "metadata": {},
   "source": [
    "## Bugs"
   ]
  },
  {
   "cell_type": "raw",
   "metadata": {},
   "source": [
    "***********************************************************\n",
    "* For Spermophilus townsendii, there are no >0 subdominant*\n",
    "* eigen values. Hence damping is not defined.             *\n",
    "***********************************************************\n"
   ]
  },
  {
   "cell_type": "code",
   "execution_count": 32,
   "metadata": {},
   "outputs": [
    {
     "data": {
      "text/plain": [
       "array([ 1.17645114+0.j        , -0.54573626+0.17033129j,\n",
       "       -0.54573626-0.17033129j, -0.04248931+0.40575768j,\n",
       "       -0.04248931-0.40575768j])"
      ]
     },
     "execution_count": 32,
     "metadata": {},
     "output_type": "execute_result"
    }
   ],
   "source": [
    "vals, vecs = np.linalg.eig(SPECIES['Spermophilus townsendii'].data[0].leslie)\n",
    "vals"
   ]
  },
  {
   "cell_type": "raw",
   "metadata": {},
   "source": [
    "***********************************************************\n",
    "* Ursus arctos horribilis,                                *\n",
    "* Cebus olivaceus large groups,                           *\n",
    "* Cebus olivaceus small groups,                           *\n",
    "* Equus asinus,                                           *\n",
    "* Spermophilus townsendii lead to a warning, check these. *\n",
    "***********************************************************\n",
    "!Resolved: once fixing the p(a) columns"
   ]
  },
  {
   "cell_type": "raw",
   "metadata": {},
   "source": [
    "***********************************************************\n",
    "* For some in the dataset, there are no p(a) values!      *\n",
    "***********************************************************\n",
    "!Resolved: manually updated them"
   ]
  },
  {
   "cell_type": "raw",
   "metadata": {},
   "source": [
    "***********************************************************\n",
    "* For the species with age, e.g. 'Lepus europaeus',       *\n",
    "in months, how to handle them?                            *\n",
    "***********************************************************\n",
    "!Resolved: Divided the ages by 12 for those with the note 'age in months'"
   ]
  },
  {
   "cell_type": "raw",
   "metadata": {},
   "source": [
    "***********************************************************\n",
    "* Some calculated values do not match for:                *\n",
    "* Capreolus capreolus, Pteropus conspicillatus,           *\n",
    "* Lynx rufus, Arctocephalus australis,                    *\n",
    "* Zapus princeps                                          *\n",
    "***********************************************************\n",
    "!Resolved: Its ok"
   ]
  },
  {
   "cell_type": "raw",
   "metadata": {},
   "source": [
    "***********************************************************\n",
    "* Spermophilus lateralis (data[2]) has cell \">1\"          *\n",
    "***********************************************************\n",
    "!Resovled: Replaced with .99 and updated the l(a) values that come after it."
   ]
  }
 ],
 "metadata": {
  "kernelspec": {
   "display_name": "bio172_3.6",
   "language": "python",
   "name": "bio172_3.6"
  },
  "language_info": {
   "codemirror_mode": {
    "name": "ipython",
    "version": 3
   },
   "file_extension": ".py",
   "mimetype": "text/x-python",
   "name": "python",
   "nbconvert_exporter": "python",
   "pygments_lexer": "ipython3",
   "version": "3.6.8"
  }
 },
 "nbformat": 4,
 "nbformat_minor": 2
}
