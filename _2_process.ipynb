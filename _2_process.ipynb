{
 "cells": [
  {
   "cell_type": "code",
   "execution_count": 1,
   "metadata": {},
   "outputs": [
    {
     "name": "stdout",
     "output_type": "stream",
     "text": [
      "Importing Jupyter notebook from _1_extract.ipynb\n"
     ]
    }
   ],
   "source": [
    "import os, config, pickle, nbimporter, _1_extract, numpy as np, pandas as pd\n",
    "Species, Data = _1_extract.Species, _1_extract.Data"
   ]
  },
  {
   "cell_type": "markdown",
   "metadata": {},
   "source": [
    "# Processing the lxmx data\n",
    "\n",
    "## Goals:\n",
    "* construct projection matrix $P$ for data\n",
    "* for each $P$ compute dominant & subdominant eigenvalues and their logs, $r, r_1$\n",
    "* for each $P$ compute $T_c, T_g, V, r_{0a}, r_{0b}, d, G, K$ (see theory for reference)"
   ]
  },
  {
   "cell_type": "code",
   "execution_count": 2,
   "metadata": {},
   "outputs": [],
   "source": [
    "SPECIES = config.load_pickle(os.path.join(config.OUTPUT_DIR, 'species.pkl'))"
   ]
  },
  {
   "cell_type": "markdown",
   "metadata": {},
   "source": [
    "## Auxillary Classes\n",
    "\n",
    "#### Processing\n",
    "This class will handle all of the goals mentioned above and augment the Data object created in the data extraction step."
   ]
  },
  {
   "cell_type": "code",
   "execution_count": 55,
   "metadata": {},
   "outputs": [],
   "source": [
    "class Processing:\n",
    "    \n",
    "    @staticmethod\n",
    "    def process(species):\n",
    "        for data in species.data:\n",
    "            matrix = data.matrix\n",
    "            ages = data.ages\n",
    "            l_a = matrix['l(a)'].to_numpy()\n",
    "            f_a = matrix['f(a)'].to_numpy()\n",
    "            p_a = matrix['p(a)'].to_numpy()\n",
    "            data.leslie = Processing.generate_leslie(p_a, f_a)\n",
    "            eigs = Processing.compute_eig(data.leslie)\n",
    "            data.eigen = {'vals': eigs[0], 'right': eigs[1], 'left': eigs[2], 'r_i': eigs[3]}\n",
    "            data.eigen['damping'] = np.exp(data.eigen['r_i'][1] - data.eigen['r_i'][0])\n",
    "            data.derivatives = Processing.compute_derivatives(l_a, f_a, ages)\n",
    "            \n",
    "    @staticmethod\n",
    "    def generate_leslie(p_a, f_a):\n",
    "        N = p_a.shape[0]\n",
    "        leslie = np.zeros((N, N))\n",
    "        leslie[0] = f_a\n",
    "        np.fill_diagonal(leslie[1:, :-1], p_a)\n",
    "        return leslie\n",
    "\n",
    "    @staticmethod\n",
    "    def compute_eig(leslie):\n",
    "        #RIGHT\n",
    "        r_vals, r_vecs = np.linalg.eig(leslie)\n",
    "        ix_r = r_vals.argsort()\n",
    "        ix_r = ix_r[::-1]\n",
    "        r_vals = r_vals[ix_r]\n",
    "        r_vecs = r_vecs[ix_r]\n",
    "        #LEFT\n",
    "        l_vals, l_vecs = np.linalg.eig(leslie.T)\n",
    "        ix_l = l_vals.argsort()\n",
    "        ix_l = ix_l[::-1]\n",
    "        l_vals = l_vals[ix_l]\n",
    "        l_vecs = l_vecs[ix_l]\n",
    "        assert np.linalg.norm(l_vals - r_vals) < .00001 #check eigenvalues are the same\n",
    "        r_eigs = r_vecs[:2]\n",
    "        l_eigs = l_vecs[:2]\n",
    "        vals = r_vals[:2]\n",
    "        r_i = np.log(np.real(vals))\n",
    "        return vals, r_eigs, l_eigs, r_i \n",
    "    \n",
    "    @staticmethod\n",
    "    def compute_derivatives(l_a, f_a, ages):\n",
    "        derivatives = {}\n",
    "        derivatives['R_0'] = R_0 = np.sum(l_a * f_a)\n",
    "        derivatives['T_c'] = T_c =  1 / R_0 * np.sum(ages * l_a * f_a)\n",
    "        derivatives['V'] = V = 1 / R_0 * np.sum((ages - T_c)**2 * l_a * f_a)\n",
    "        derivatives['G'] = G = 1 / (R_0 * V**1.5) * np.sum((ages - T_c)**3 * l_a * f_a)\n",
    "        derivatives['K'] = K =  1 / (R_0 * V**2) * np.sum((ages - T_c)**4 * l_a * f_a)\n",
    "        derivatives['r_0a'] = r_0a = np.log(R_0)/T_c #without dispersion\n",
    "        derivatives['r_0b'] = r_0a + V*np.log(R_0)**2/(T_c**3)  #with dispersion\n",
    "        return derivatives\n",
    "    \n",
    "    @staticmethod\n",
    "    def check_derivatives(species):\n",
    "        for data in species.data:\n",
    "            T_c_reported = data.reported['T_c'][1]\n",
    "            R_0_reported = data.reported['R_0']\n",
    "            V_reported = data.reported['V']\n",
    "            exceptions = []\n",
    "            if not (abs(data.derivatives['T_c'] - T_c_reported) < .01):\n",
    "                exceptions.append('T_c calculated: {}, reported: {}'.format(data.derivatives['T_c'], T_c_reported))\n",
    "            if not (R_0_reported is None or abs(data.derivatives['R_0'] - R_0_reported) < .01): \n",
    "                exceptions.append('R_0 calculated: {}, reported: {}'.format(data.derivatives['R_0'], R_0_reported))\n",
    "            if not (V_reported is None or abs(data.derivatives['V'] - V_reported) < .01): \n",
    "                exceptions.append('V calculated: {}, reported: {}'.format(data.derivatives['V'], V_reported))\n",
    "            if len(exceptions) > 0:\n",
    "                combined = '; '\n",
    "                combined = combined.join(exceptions)\n",
    "                raise Exception('For {}, {}'.format(species, combined))\n",
    "                "
   ]
  },
  {
   "cell_type": "code",
   "execution_count": 56,
   "metadata": {},
   "outputs": [
    {
     "name": "stdout",
     "output_type": "stream",
     "text": [
      "**********\n",
      "For Lepus europaeus: 1 data entries, notes: ['age in months'], T_c calculated: 13.279863097655307, reported: 1.217; V calculated: 13.720307623123851, reported: 0.264\n",
      "**********\n",
      "For Capreolus capreolus: 2 data entries, notes: [], T_c calculated: 4.555876774257954, reported: 4.754; V calculated: 3.9787695061941166, reported: 4.814\n",
      "**********\n",
      "For Sylvilagus floridanus: 1 data entries, notes: ['age in months', 'for 1 litter/year but several are produced (3.5)'], T_c calculated: 9.183254625265562, reported: 0.763; V calculated: 36.19810073077049, reported: 0.253\n",
      "**********\n",
      "For Pteropus conspicillatus: 1 data entries, notes: [], T_c calculated: 4.001943479485495, reported: 4.76; V calculated: 4.921872103086531, reported: 3.302\n",
      "**********\n",
      "For Lynx rufus: 1 data entries, notes: [], T_c calculated: 2.169733372399648, reported: 2.67\n",
      "**********\n",
      "For Arctocephalus australis: 1 data entries, notes: [], T_c calculated: 6.323251800587961, reported: 5.823\n",
      "**********\n",
      "For Liomys adspersus: 1 data entries, notes: ['age in months'], T_c calculated: 9.254684302074919, reported: 0.771; V calculated: 4.6493154286537255, reported: 0.032\n",
      "**********\n",
      "For Oryzomys capito: 1 data entries, notes: ['age in months'], T_c calculated: 4.914334181509753, reported: 0.41; V calculated: 3.745842029120004, reported: 0.026\n",
      "**********\n",
      "For Proechimys semispinosus: 1 data entries, notes: ['age in months'], T_c calculated: 15.862624712202612, reported: 1.322; V calculated: 52.84528766192192, reported: 0.367\n",
      "**********\n",
      "For Zapus princeps: 1 data entries, notes: [], T_c calculated: 1.9642274633018801, reported: 2.279; V calculated: 0.6142581144251301, reported: 1.1\n"
     ]
    },
    {
     "name": "stderr",
     "output_type": "stream",
     "text": [
      "/home/kaan/anaconda3/envs/bio172_3.6/lib/python3.6/site-packages/ipykernel_launcher.py:43: RuntimeWarning: divide by zero encountered in log\n",
      "/home/kaan/anaconda3/envs/bio172_3.6/lib/python3.6/site-packages/ipykernel_launcher.py:14: RuntimeWarning: invalid value encountered in double_scalars\n",
      "  \n"
     ]
    }
   ],
   "source": [
    "for s in SPECIES:\n",
    "    if s == 'Spermophilus lateralis':\n",
    "        continue\n",
    "    Processing.process(SPECIES[s])\n",
    "    try:\n",
    "        Processing.check_derivatives(SPECIES[s])\n",
    "    except Exception as e:\n",
    "        print('**********')\n",
    "        print(e)\n"
   ]
  },
  {
   "cell_type": "markdown",
   "metadata": {},
   "source": [
    "## Working with the Species objects\n",
    "\n",
    "You can acccess the calculated derivatives as follows:"
   ]
  },
  {
   "cell_type": "code",
   "execution_count": 60,
   "metadata": {},
   "outputs": [],
   "source": [
    "s = 'Capreolus capreolus'"
   ]
  },
  {
   "cell_type": "code",
   "execution_count": 62,
   "metadata": {},
   "outputs": [
    {
     "data": {
      "text/plain": [
       "Capreolus capreolus: 2 data entries, notes: []"
      ]
     },
     "execution_count": 62,
     "metadata": {},
     "output_type": "execute_result"
    }
   ],
   "source": [
    "SPECIES[s]"
   ]
  },
  {
   "cell_type": "code",
   "execution_count": 63,
   "metadata": {},
   "outputs": [
    {
     "data": {
      "text/plain": [
       "{'R_0': 1.3652699999999998,\n",
       " 'T_c': 4.190412885363336,\n",
       " 'V': 3.8837257936206915,\n",
       " 'G': 1.1266838507251522,\n",
       " 'K': 4.465624285201734,\n",
       " 'r_0a': 0.07430108196783416,\n",
       " 'r_0b': 0.0794176884752565}"
      ]
     },
     "execution_count": 63,
     "metadata": {},
     "output_type": "execute_result"
    }
   ],
   "source": [
    "SPECIES[s].data[1].derivatives"
   ]
  },
  {
   "cell_type": "code",
   "execution_count": 64,
   "metadata": {},
   "outputs": [
    {
     "data": {
      "text/plain": [
       "{'T_c': [None, 4.19], 'V': 3.884, 'R_0': None}"
      ]
     },
     "execution_count": 64,
     "metadata": {},
     "output_type": "execute_result"
    }
   ],
   "source": [
    "SPECIES[s].data[1].reported"
   ]
  },
  {
   "cell_type": "code",
   "execution_count": 66,
   "metadata": {},
   "outputs": [
    {
     "data": {
      "text/plain": [
       "array([ 0.06143377, -0.73217181])"
      ]
     },
     "execution_count": 66,
     "metadata": {},
     "output_type": "execute_result"
    }
   ],
   "source": [
    "SPECIES[s].data[1].eigen['r_i']"
   ]
  },
  {
   "cell_type": "code",
   "execution_count": 68,
   "metadata": {},
   "outputs": [
    {
     "data": {
      "text/plain": [
       "0.4522113685415103"
      ]
     },
     "execution_count": 68,
     "metadata": {},
     "output_type": "execute_result"
    }
   ],
   "source": [
    "SPECIES[s].data[1].eigen['damping']"
   ]
  },
  {
   "cell_type": "code",
   "execution_count": 59,
   "metadata": {},
   "outputs": [],
   "source": [
    "save = True\n",
    "if save:\n",
    "    config.save_pickle(SPECIES, os.path.join(config.OUTPUT_DIR, 'species_with_derivatives.pkl'))"
   ]
  },
  {
   "cell_type": "markdown",
   "metadata": {},
   "source": [
    "## Bugs"
   ]
  },
  {
   "cell_type": "raw",
   "metadata": {},
   "source": [
    "***********************************************************\n",
    "* Spermophilus lateralis (data[2]) has cell \">1\"          *\n",
    "***********************************************************"
   ]
  },
  {
   "cell_type": "code",
   "execution_count": 8,
   "metadata": {},
   "outputs": [
    {
     "data": {
      "text/html": [
       "<div>\n",
       "<style scoped>\n",
       "    .dataframe tbody tr th:only-of-type {\n",
       "        vertical-align: middle;\n",
       "    }\n",
       "\n",
       "    .dataframe tbody tr th {\n",
       "        vertical-align: top;\n",
       "    }\n",
       "\n",
       "    .dataframe thead th {\n",
       "        text-align: right;\n",
       "    }\n",
       "</style>\n",
       "<table border=\"1\" class=\"dataframe\">\n",
       "  <thead>\n",
       "    <tr style=\"text-align: right;\">\n",
       "      <th></th>\n",
       "      <th>l(a)</th>\n",
       "      <th>f(a)</th>\n",
       "      <th>p(a)</th>\n",
       "    </tr>\n",
       "    <tr>\n",
       "      <th>age</th>\n",
       "      <th></th>\n",
       "      <th></th>\n",
       "      <th></th>\n",
       "    </tr>\n",
       "  </thead>\n",
       "  <tbody>\n",
       "    <tr>\n",
       "      <th>0.0</th>\n",
       "      <td>1.000</td>\n",
       "      <td>0.00</td>\n",
       "      <td>0.223</td>\n",
       "    </tr>\n",
       "    <tr>\n",
       "      <th>1.0</th>\n",
       "      <td>0.223</td>\n",
       "      <td>2.17</td>\n",
       "      <td>0.296</td>\n",
       "    </tr>\n",
       "    <tr>\n",
       "      <th>2.0</th>\n",
       "      <td>0.066</td>\n",
       "      <td>3.19</td>\n",
       "      <td>0.455</td>\n",
       "    </tr>\n",
       "    <tr>\n",
       "      <th>3.0</th>\n",
       "      <td>0.030</td>\n",
       "      <td>3.17</td>\n",
       "      <td>&gt;1</td>\n",
       "    </tr>\n",
       "    <tr>\n",
       "      <th>4.0</th>\n",
       "      <td>0.036</td>\n",
       "      <td>2.93</td>\n",
       "      <td>0.694</td>\n",
       "    </tr>\n",
       "    <tr>\n",
       "      <th>5.0</th>\n",
       "      <td>0.025</td>\n",
       "      <td>3.40</td>\n",
       "      <td>0.2</td>\n",
       "    </tr>\n",
       "    <tr>\n",
       "      <th>6.0</th>\n",
       "      <td>0.005</td>\n",
       "      <td>3.50</td>\n",
       "      <td>0</td>\n",
       "    </tr>\n",
       "  </tbody>\n",
       "</table>\n",
       "</div>"
      ],
      "text/plain": [
       "      l(a)  f(a)   p(a)\n",
       "age                    \n",
       "0.0  1.000  0.00  0.223\n",
       "1.0  0.223  2.17  0.296\n",
       "2.0  0.066  3.19  0.455\n",
       "3.0  0.030  3.17     >1\n",
       "4.0  0.036  2.93  0.694\n",
       "5.0  0.025  3.40    0.2\n",
       "6.0  0.005  3.50      0"
      ]
     },
     "execution_count": 8,
     "metadata": {},
     "output_type": "execute_result"
    }
   ],
   "source": [
    "SPECIES['Spermophilus lateralis'].data[2].matrix"
   ]
  },
  {
   "cell_type": "raw",
   "metadata": {},
   "source": [
    "***********************************************************\n",
    "* Ursus arctos horribilis,                                *\n",
    "* Cebus olivaceus large groups,                           *\n",
    "* Cebus olivaceus small groups,                           *\n",
    "* Equus asinus,                                           *\n",
    "* Spermophilus townsendii lead to a warning, check these. *\n",
    "***********************************************************"
   ]
  },
  {
   "cell_type": "code",
   "execution_count": 6,
   "metadata": {},
   "outputs": [
    {
     "name": "stderr",
     "output_type": "stream",
     "text": [
      "/home/kaan/anaconda3/envs/bio172_3.6/lib/python3.6/site-packages/ipykernel_launcher.py:43: RuntimeWarning: divide by zero encountered in log\n",
      "/home/kaan/anaconda3/envs/bio172_3.6/lib/python3.6/site-packages/ipykernel_launcher.py:14: RuntimeWarning: invalid value encountered in double_scalars\n",
      "  \n"
     ]
    }
   ],
   "source": [
    "Processing.process(SPECIES['Ursus arctos horribilis'])"
   ]
  },
  {
   "cell_type": "raw",
   "metadata": {},
   "source": [
    "***********************************************************\n",
    "* For the species with age in months, how to handle them? *\n",
    "***********************************************************"
   ]
  },
  {
   "cell_type": "code",
   "execution_count": 25,
   "metadata": {},
   "outputs": [
    {
     "ename": "AssertionError",
     "evalue": "For Lepus europaeus: 1 data entries, notes: age in months, T_c calculated: 13.279863097655307, reported: 1.217",
     "output_type": "error",
     "traceback": [
      "\u001b[0;31m---------------------------------------------------------------------------\u001b[0m",
      "\u001b[0;31mAssertionError\u001b[0m                            Traceback (most recent call last)",
      "\u001b[0;32m<ipython-input-25-f93fd92d7c04>\u001b[0m in \u001b[0;36m<module>\u001b[0;34m\u001b[0m\n\u001b[0;32m----> 1\u001b[0;31m \u001b[0mProcessing\u001b[0m\u001b[0;34m.\u001b[0m\u001b[0mcheck_derivatives\u001b[0m\u001b[0;34m(\u001b[0m\u001b[0mSPECIES\u001b[0m\u001b[0;34m[\u001b[0m\u001b[0;34m'Lepus europaeus'\u001b[0m\u001b[0;34m]\u001b[0m\u001b[0;34m)\u001b[0m\u001b[0;34m\u001b[0m\u001b[0;34m\u001b[0m\u001b[0m\n\u001b[0m",
      "\u001b[0;32m<ipython-input-22-d102272940c7>\u001b[0m in \u001b[0;36mcheck_derivatives\u001b[0;34m(species)\u001b[0m\n\u001b[1;32m     63\u001b[0m             \u001b[0mV_reported\u001b[0m \u001b[0;34m=\u001b[0m \u001b[0mdata\u001b[0m\u001b[0;34m.\u001b[0m\u001b[0mreported\u001b[0m\u001b[0;34m[\u001b[0m\u001b[0;34m'V'\u001b[0m\u001b[0;34m]\u001b[0m\u001b[0;34m\u001b[0m\u001b[0;34m\u001b[0m\u001b[0m\n\u001b[1;32m     64\u001b[0m             assert(data.derivatives['T_c'] - T_c_reported < .01), 'For {}, T_c calculated: {}, reported: {}'.format(species,\n\u001b[0;32m---> 65\u001b[0;31m                                                                         data.derivatives['T_c'], T_c_reported)\n\u001b[0m\u001b[1;32m     66\u001b[0m             assert(R_0_reported is None or data.derivatives['R_0'] - R_0_reported < .01), 'For {}, R_0 calculated: {}, reported: {}'.format(species,\n\u001b[1;32m     67\u001b[0m                                                                                                 data.derivatives['R_0'], R_0_reported)\n",
      "\u001b[0;31mAssertionError\u001b[0m: For Lepus europaeus: 1 data entries, notes: age in months, T_c calculated: 13.279863097655307, reported: 1.217"
     ]
    }
   ],
   "source": [
    "Processing.check_derivatives(SPECIES['Lepus europaeus'])"
   ]
  },
  {
   "cell_type": "raw",
   "metadata": {},
   "source": [
    "***********************************************************\n",
    "* Some calculated values do not match?                    *\n",
    "***********************************************************"
   ]
  }
 ],
 "metadata": {
  "kernelspec": {
   "display_name": "bio172_3.6",
   "language": "python",
   "name": "bio172_3.6"
  },
  "language_info": {
   "codemirror_mode": {
    "name": "ipython",
    "version": 3
   },
   "file_extension": ".py",
   "mimetype": "text/x-python",
   "name": "python",
   "nbconvert_exporter": "python",
   "pygments_lexer": "ipython3",
   "version": "3.6.8"
  }
 },
 "nbformat": 4,
 "nbformat_minor": 2
}
