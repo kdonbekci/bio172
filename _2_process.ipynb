{
 "cells": [
  {
   "cell_type": "code",
   "execution_count": 1,
   "metadata": {},
   "outputs": [
    {
     "name": "stdout",
     "output_type": "stream",
     "text": [
      "Importing Jupyter notebook from _1_extract.ipynb\n"
     ]
    }
   ],
   "source": [
    "import os, config, pickle, nbimporter, random, _1_extract, numpy as np, pandas as pd\n",
    "Species, Data = _1_extract.Species, _1_extract.Data"
   ]
  },
  {
   "cell_type": "markdown",
   "metadata": {},
   "source": [
    "# Processing the lxmx data\n",
    "\n",
    "## Goals:\n",
    "* construct projection matrix $P$ for data\n",
    "* for each $P$ compute dominant & subdominant eigenvalues and their logs, $r, r_1$\n",
    "* for each $P$ compute $T_c, T_g, V, r_{0a}, r_{0b}, d, G, K$ (see theory for reference)"
   ]
  },
  {
   "cell_type": "code",
   "execution_count": 2,
   "metadata": {},
   "outputs": [],
   "source": [
    "SPECIES = config.load_pickle(os.path.join(config.OUTPUT_DIR, 'species.pkl'))"
   ]
  },
  {
   "cell_type": "markdown",
   "metadata": {},
   "source": [
    "## Auxillary Classes\n",
    "\n",
    "#### Processing\n",
    "This class will handle all of the goals mentioned above and augment the Data object created in the data extraction step."
   ]
  },
  {
   "cell_type": "code",
   "execution_count": 79,
   "metadata": {},
   "outputs": [],
   "source": [
    "class Processing:\n",
    "    \n",
    "    @staticmethod\n",
    "    def process(species):\n",
    "        for data in species.data:\n",
    "            matrix = data.matrix\n",
    "            ages = data.ages\n",
    "            l_a = matrix['l(a)'].to_numpy()\n",
    "            f_a = matrix['f(a)'].to_numpy()\n",
    "            p_a = matrix['p(a)'].to_numpy()\n",
    "            data.leslie = Processing.generate_leslie(p_a, f_a)\n",
    "            eigs = Processing.compute_eig(data.leslie)\n",
    "            data.eigen = {'vals': eigs[0], 'right': eigs[1], 'left': eigs[2], 'r_i': eigs[3]}\n",
    "            data.eigen['damping'] = np.exp(data.eigen['r_i'][1] - data.eigen['r_i'][0])\n",
    "            data.derivatives = Processing.compute_derivatives(l_a, f_a, ages, data.eigen)\n",
    "            data.approximations = Processing.compute_approximations(data.derivatives, data.eigen)\n",
    "\n",
    "            \n",
    "    @staticmethod\n",
    "    def generate_leslie(p_a, f_a):\n",
    "        N = p_a.shape[0]\n",
    "        leslie = np.zeros((N, N))\n",
    "        leslie[0] = f_a\n",
    "        np.fill_diagonal(leslie[1:, :-1], p_a)\n",
    "        return leslie\n",
    "\n",
    "    @staticmethod\n",
    "    def compute_eig(leslie):\n",
    "        #RIGHT\n",
    "        r_vals, r_vecs = np.linalg.eig(leslie)\n",
    "        ix_r = r_vals.argsort()\n",
    "        ix_r = ix_r[::-1]\n",
    "        r_vals = r_vals[ix_r]\n",
    "        r_vecs = r_vecs[ix_r]\n",
    "        #LEFT\n",
    "        l_vals, l_vecs = np.linalg.eig(leslie.T)\n",
    "        ix_l = l_vals.argsort()\n",
    "        ix_l = ix_l[::-1]\n",
    "        l_vals = l_vals[ix_l]\n",
    "        l_vecs = l_vecs[ix_l]\n",
    "        assert np.linalg.norm(l_vals - r_vals) < .00001 #check eigenvalues are the same\n",
    "        r_eigs = r_vecs[:2]\n",
    "        l_eigs = l_vecs[:2]\n",
    "        vals = r_vals[:2]\n",
    "        r_i = np.log(np.real(vals))\n",
    "        return vals, r_eigs, l_eigs, r_i \n",
    "    \n",
    "    def compute_approximations(deriv, eig):\n",
    "        approx = {}\n",
    "        approx['d'] = np.exp(-2*np.pi*deriv['V']/deriv['T_c']**3)\n",
    "        approx['r_0a'] = r_0a = np.log(deriv['R_0'])/deriv['T_c'] #without dispersion\n",
    "        approx['r_0b'] = r_0a + deriv['V']*np.log(deriv['R_0'])**2/(deriv['T_c']**3)  #with dispersion\n",
    "        approx['r_1a'] = eig['r_i'][0] - 2 * np.pi / (deriv['T_c']**3)\n",
    "        approx['s_1a'] =  2 * np.pi / deriv['T_c'] - np.pi * deriv['V'] * np.log(deriv['R_0'])/ (deriv['T_c']**3)\n",
    "        return approx\n",
    "    \n",
    "    @staticmethod\n",
    "    def compute_derivatives(l_a, f_a, ages, eigen):\n",
    "        derivatives = {}\n",
    "        derivatives['R_0'] = R_0 = np.sum(l_a * f_a)\n",
    "        derivatives['T_c'] = T_c =  1 / R_0 * np.sum(ages * l_a * f_a)\n",
    "        derivatives['V'] = V = 1 / R_0 * np.sum((ages - T_c)**2 * l_a * f_a)\n",
    "        derivatives['G'] = G = 1 / (R_0 * V**1.5) * np.sum((ages - T_c)**3 * l_a * f_a)\n",
    "        derivatives['K'] = K =  1 / (R_0 * V**2) * np.sum((ages - T_c)**4 * l_a * f_a)\n",
    "        return derivatives\n",
    "    \n",
    "    @staticmethod\n",
    "    def check_derivatives(species):\n",
    "        for data in species.data:\n",
    "            T_c_reported = data.reported['T_c'][1]\n",
    "            R_0_reported = data.reported['R_0']\n",
    "            V_reported = data.reported['V']\n",
    "            exceptions = []\n",
    "            if not (abs(data.derivatives['T_c'] - T_c_reported) < .01):\n",
    "                exceptions.append('T_c calculated: {}, reported: {}'.format(data.derivatives['T_c'], T_c_reported))\n",
    "            if not (R_0_reported is None or abs(data.derivatives['R_0'] - R_0_reported) < .01): \n",
    "                exceptions.append('R_0 calculated: {}, reported: {}'.format(data.derivatives['R_0'], R_0_reported))\n",
    "            if not (V_reported is None or abs(data.derivatives['V'] - V_reported) < .01): \n",
    "                exceptions.append('V calculated: {}, reported: {}'.format(data.derivatives['V'], V_reported))\n",
    "            if len(exceptions) > 0:\n",
    "                combined = '; '\n",
    "                combined = combined.join(exceptions)\n",
    "                raise Exception('For {}, {}'.format(species.name, combined))\n",
    "                "
   ]
  },
  {
   "cell_type": "code",
   "execution_count": 80,
   "metadata": {},
   "outputs": [
    {
     "name": "stdout",
     "output_type": "stream",
     "text": [
      "**********\n",
      "For Spermophilus lateralis, T_c calculated: 3.3807044887780555, reported: 3.511; R_0 calculated: 0.9623999999999999, reported: 0.998; V calculated: 2.2432498777603995, reported: 2.618\n",
      "**********\n",
      "For Lepus europaeus, T_c calculated: 13.279863097655307, reported: 1.217; V calculated: 13.720307623123851, reported: 0.264\n",
      "**********\n",
      "For Capreolus capreolus, T_c calculated: 4.555876774257954, reported: 4.754; V calculated: 3.9787695061941166, reported: 4.814\n",
      "**********\n",
      "For Sylvilagus floridanus, T_c calculated: 9.183254625265562, reported: 0.763; V calculated: 36.19810073077049, reported: 0.253\n",
      "**********\n",
      "For Pteropus conspicillatus, T_c calculated: 4.001943479485495, reported: 4.76; V calculated: 4.921872103086531, reported: 3.302\n",
      "**********\n",
      "For Lynx rufus, T_c calculated: 2.169733372399648, reported: 2.67\n",
      "**********\n",
      "For Arctocephalus australis, T_c calculated: 6.323251800587961, reported: 5.823\n",
      "**********\n",
      "For Liomys adspersus, T_c calculated: 9.254684302074919, reported: 0.771; V calculated: 4.6493154286537255, reported: 0.032\n",
      "**********\n",
      "For Oryzomys capito, T_c calculated: 4.914334181509753, reported: 0.41; V calculated: 3.745842029120004, reported: 0.026\n",
      "**********\n",
      "For Proechimys semispinosus, T_c calculated: 15.862624712202612, reported: 1.322; V calculated: 52.84528766192192, reported: 0.367\n",
      "**********\n",
      "For Zapus princeps, T_c calculated: 1.9642274633018801, reported: 2.279; V calculated: 0.6142581144251301, reported: 1.1\n"
     ]
    },
    {
     "name": "stderr",
     "output_type": "stream",
     "text": [
      "/home/kaan/anaconda3/envs/bio172_3.6/lib/python3.6/site-packages/ipykernel_launcher.py:45: RuntimeWarning: divide by zero encountered in log\n",
      "/home/kaan/anaconda3/envs/bio172_3.6/lib/python3.6/site-packages/ipykernel_launcher.py:14: RuntimeWarning: invalid value encountered in double_scalars\n",
      "  \n"
     ]
    }
   ],
   "source": [
    "for s in SPECIES:\n",
    "    Processing.process(SPECIES[s])\n",
    "    try:\n",
    "        Processing.check_derivatives(SPECIES[s])\n",
    "    except Exception as e:\n",
    "        print('**********')\n",
    "        print(e)\n"
   ]
  },
  {
   "cell_type": "markdown",
   "metadata": {},
   "source": [
    "## Working with the Species objects\n",
    "\n",
    "You can acccess the calculated derivatives as follows:"
   ]
  },
  {
   "cell_type": "code",
   "execution_count": 81,
   "metadata": {},
   "outputs": [],
   "source": [
    "s = random.choice(list(SPECIES.keys()))"
   ]
  },
  {
   "cell_type": "code",
   "execution_count": 82,
   "metadata": {},
   "outputs": [
    {
     "data": {
      "text/plain": [
       "Kobus ellipsiprymnus: 1 data entries, notes: []"
      ]
     },
     "execution_count": 82,
     "metadata": {},
     "output_type": "execute_result"
    }
   ],
   "source": [
    "SPECIES[s]"
   ]
  },
  {
   "cell_type": "code",
   "execution_count": 83,
   "metadata": {},
   "outputs": [
    {
     "data": {
      "text/plain": [
       "dict_keys(['vals', 'right', 'left', 'r_i', 'damping'])"
      ]
     },
     "execution_count": 83,
     "metadata": {},
     "output_type": "execute_result"
    }
   ],
   "source": [
    "SPECIES[s].data[0].eigen.keys()"
   ]
  },
  {
   "cell_type": "code",
   "execution_count": 84,
   "metadata": {},
   "outputs": [
    {
     "data": {
      "text/plain": [
       "array([0.86348566+0.j        , 0.54523508+0.44448616j])"
      ]
     },
     "execution_count": 84,
     "metadata": {},
     "output_type": "execute_result"
    }
   ],
   "source": [
    "SPECIES[s].data[0].eigen['vals']"
   ]
  },
  {
   "cell_type": "code",
   "execution_count": 85,
   "metadata": {},
   "outputs": [
    {
     "data": {
      "text/plain": [
       "array([-0.14677799, -0.60653823])"
      ]
     },
     "execution_count": 85,
     "metadata": {},
     "output_type": "execute_result"
    }
   ],
   "source": [
    "SPECIES[s].data[0].eigen['r_i']"
   ]
  },
  {
   "cell_type": "code",
   "execution_count": 86,
   "metadata": {},
   "outputs": [
    {
     "data": {
      "text/plain": [
       "0.6314350159201683"
      ]
     },
     "execution_count": 86,
     "metadata": {},
     "output_type": "execute_result"
    }
   ],
   "source": [
    "SPECIES[s].data[0].eigen['damping']"
   ]
  },
  {
   "cell_type": "code",
   "execution_count": 87,
   "metadata": {},
   "outputs": [
    {
     "data": {
      "text/plain": [
       "{'R_0': 0.37936000000000003,\n",
       " 'T_c': 5.19627794179671,\n",
       " 'V': 5.2802750539166405,\n",
       " 'G': 0.5214141023739632,\n",
       " 'K': 2.3734262060649387}"
      ]
     },
     "execution_count": 87,
     "metadata": {},
     "output_type": "execute_result"
    }
   ],
   "source": [
    "SPECIES[s].data[0].derivatives"
   ]
  },
  {
   "cell_type": "code",
   "execution_count": 88,
   "metadata": {},
   "outputs": [
    {
     "data": {
      "text/plain": [
       "{'d': 0.789416766164705,\n",
       " 'r_0a': -0.18653152651220548,\n",
       " 'r_0b': -0.15117507577789258,\n",
       " 'r_1a': -0.191559911936404,\n",
       " 's_1a': 1.3237675437049226}"
      ]
     },
     "execution_count": 88,
     "metadata": {},
     "output_type": "execute_result"
    }
   ],
   "source": [
    "SPECIES[s].data[0].approximations"
   ]
  },
  {
   "cell_type": "code",
   "execution_count": 89,
   "metadata": {},
   "outputs": [
    {
     "data": {
      "text/plain": [
       "{'T_c': [None, 5.196], 'V': 5.28, 'R_0': None}"
      ]
     },
     "execution_count": 89,
     "metadata": {},
     "output_type": "execute_result"
    }
   ],
   "source": [
    "SPECIES[s].data[0].reported"
   ]
  },
  {
   "cell_type": "code",
   "execution_count": 78,
   "metadata": {},
   "outputs": [],
   "source": [
    "save = True\n",
    "if save:\n",
    "    config.save_pickle(SPECIES, os.path.join(config.OUTPUT_DIR, 'species_processed.pkl'))"
   ]
  },
  {
   "cell_type": "markdown",
   "metadata": {},
   "source": [
    "## Bugs"
   ]
  },
  {
   "cell_type": "raw",
   "metadata": {},
   "source": [
    "***********************************************************\n",
    "* Ursus arctos horribilis,                                *\n",
    "* Cebus olivaceus large groups,                           *\n",
    "* Cebus olivaceus small groups,                           *\n",
    "* Equus asinus,                                           *\n",
    "* Spermophilus townsendii lead to a warning, check these. *\n",
    "***********************************************************"
   ]
  },
  {
   "cell_type": "code",
   "execution_count": 77,
   "metadata": {},
   "outputs": [
    {
     "name": "stderr",
     "output_type": "stream",
     "text": [
      "/home/kaan/anaconda3/envs/bio172_3.6/lib/python3.6/site-packages/ipykernel_launcher.py:45: RuntimeWarning: divide by zero encountered in log\n",
      "/home/kaan/anaconda3/envs/bio172_3.6/lib/python3.6/site-packages/ipykernel_launcher.py:14: RuntimeWarning: invalid value encountered in double_scalars\n",
      "  \n"
     ]
    }
   ],
   "source": [
    "Processing.process(SPECIES['Ursus arctos horribilis'])"
   ]
  },
  {
   "cell_type": "raw",
   "metadata": {},
   "source": [
    "***********************************************************\n",
    "* For the species with age in months, how to handle them? *\n",
    "***********************************************************"
   ]
  },
  {
   "cell_type": "code",
   "execution_count": 76,
   "metadata": {},
   "outputs": [
    {
     "ename": "Exception",
     "evalue": "For Lepus europaeus, T_c calculated: 13.279863097655307, reported: 1.217; V calculated: 13.720307623123851, reported: 0.264",
     "output_type": "error",
     "traceback": [
      "\u001b[0;31m---------------------------------------------------------------------------\u001b[0m",
      "\u001b[0;31mException\u001b[0m                                 Traceback (most recent call last)",
      "\u001b[0;32m<ipython-input-76-f93fd92d7c04>\u001b[0m in \u001b[0;36m<module>\u001b[0;34m\u001b[0m\n\u001b[0;32m----> 1\u001b[0;31m \u001b[0mProcessing\u001b[0m\u001b[0;34m.\u001b[0m\u001b[0mcheck_derivatives\u001b[0m\u001b[0;34m(\u001b[0m\u001b[0mSPECIES\u001b[0m\u001b[0;34m[\u001b[0m\u001b[0;34m'Lepus europaeus'\u001b[0m\u001b[0;34m]\u001b[0m\u001b[0;34m)\u001b[0m\u001b[0;34m\u001b[0m\u001b[0;34m\u001b[0m\u001b[0m\n\u001b[0m",
      "\u001b[0;32m<ipython-input-62-c9d03e03f8cd>\u001b[0m in \u001b[0;36mcheck_derivatives\u001b[0;34m(species)\u001b[0m\n\u001b[1;32m     81\u001b[0m                 \u001b[0mcombined\u001b[0m \u001b[0;34m=\u001b[0m \u001b[0;34m'; '\u001b[0m\u001b[0;34m\u001b[0m\u001b[0;34m\u001b[0m\u001b[0m\n\u001b[1;32m     82\u001b[0m                 \u001b[0mcombined\u001b[0m \u001b[0;34m=\u001b[0m \u001b[0mcombined\u001b[0m\u001b[0;34m.\u001b[0m\u001b[0mjoin\u001b[0m\u001b[0;34m(\u001b[0m\u001b[0mexceptions\u001b[0m\u001b[0;34m)\u001b[0m\u001b[0;34m\u001b[0m\u001b[0;34m\u001b[0m\u001b[0m\n\u001b[0;32m---> 83\u001b[0;31m                 \u001b[0;32mraise\u001b[0m \u001b[0mException\u001b[0m\u001b[0;34m(\u001b[0m\u001b[0;34m'For {}, {}'\u001b[0m\u001b[0;34m.\u001b[0m\u001b[0mformat\u001b[0m\u001b[0;34m(\u001b[0m\u001b[0mspecies\u001b[0m\u001b[0;34m.\u001b[0m\u001b[0mname\u001b[0m\u001b[0;34m,\u001b[0m \u001b[0mcombined\u001b[0m\u001b[0;34m)\u001b[0m\u001b[0;34m)\u001b[0m\u001b[0;34m\u001b[0m\u001b[0;34m\u001b[0m\u001b[0m\n\u001b[0m\u001b[1;32m     84\u001b[0m \u001b[0;34m\u001b[0m\u001b[0m\n",
      "\u001b[0;31mException\u001b[0m: For Lepus europaeus, T_c calculated: 13.279863097655307, reported: 1.217; V calculated: 13.720307623123851, reported: 0.264"
     ]
    }
   ],
   "source": [
    "Processing.check_derivatives(SPECIES['Lepus europaeus'])"
   ]
  },
  {
   "cell_type": "raw",
   "metadata": {},
   "source": [
    "***********************************************************\n",
    "* Some calculated values do not match for:                *\n",
    "* Capreolus capreolus, Pteropus conspicillatus,           *\n",
    "* Lynx rufus, Arctocephalus australis,                    *\n",
    "* Zapus princeps                                          *\n",
    "***********************************************************\n",
    "!Resolved: Its ok"
   ]
  },
  {
   "cell_type": "raw",
   "metadata": {},
   "source": [
    "***********************************************************\n",
    "* Spermophilus lateralis (data[2]) has cell \">1\"          *\n",
    "***********************************************************\n",
    "!Resovled: Replaced with .99 and updated the l(a) values that come after it."
   ]
  }
 ],
 "metadata": {
  "kernelspec": {
   "display_name": "bio172_3.6",
   "language": "python",
   "name": "bio172_3.6"
  },
  "language_info": {
   "codemirror_mode": {
    "name": "ipython",
    "version": 3
   },
   "file_extension": ".py",
   "mimetype": "text/x-python",
   "name": "python",
   "nbconvert_exporter": "python",
   "pygments_lexer": "ipython3",
   "version": "3.6.8"
  }
 },
 "nbformat": 4,
 "nbformat_minor": 2
}
