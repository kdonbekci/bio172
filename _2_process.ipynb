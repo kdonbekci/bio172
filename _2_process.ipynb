{
 "cells": [
  {
   "cell_type": "code",
   "execution_count": 2,
   "metadata": {},
   "outputs": [
    {
     "name": "stdout",
     "output_type": "stream",
     "text": [
      "Importing Jupyter notebook from _1_extract.ipynb\n"
     ]
    }
   ],
   "source": [
    "import os, config, pickle, nbimporter, random, _1_extract, numpy as np, pandas as pd\n",
    "Species, Data = _1_extract.Species, _1_extract.Data"
   ]
  },
  {
   "cell_type": "markdown",
   "metadata": {},
   "source": [
    "# Processing the lxmx data\n",
    "\n",
    "## Goals:\n",
    "* construct projection matrix $P$ for data\n",
    "* for each $P$ compute dominant & subdominant eigenvalues and their logs, $r, r_1$\n",
    "* for each $P$ compute $T_c, T_g, V, r_{0a}, r_{0b}, d, G, K$ (see theory for reference)"
   ]
  },
  {
   "cell_type": "code",
   "execution_count": 3,
   "metadata": {},
   "outputs": [],
   "source": [
    "SPECIES = config.load_pickle(os.path.join(config.OUTPUT_DIR, 'species.pkl'))"
   ]
  },
  {
   "cell_type": "markdown",
   "metadata": {},
   "source": [
    "## Auxillary Classes\n",
    "\n",
    "#### Processing\n",
    "This class will handle all of the goals mentioned above and augment the Data object created in the data extraction step."
   ]
  },
  {
   "cell_type": "code",
   "execution_count": 4,
   "metadata": {},
   "outputs": [],
   "source": [
    "class Processing:\n",
    "    \n",
    "    @staticmethod\n",
    "    def process(species):\n",
    "        factor = 1\n",
    "        if 'age in months' in species.notes: # for species with age reported in month, I divided the ages by 12\n",
    "            factor = 12\n",
    "        for data in species.data:\n",
    "            matrix = data.matrix\n",
    "            ages = data.ages / factor\n",
    "            l_a = matrix['l(a)'].to_numpy()\n",
    "            f_a = matrix['f(a)'].to_numpy()\n",
    "            p_a = matrix['p(a)'].to_numpy()\n",
    "            data.leslie = Processing.generate_leslie(p_a, f_a)\n",
    "            eigs = Processing.compute_eig(data.leslie)\n",
    "            data.eigen = {'vals': eigs[0], 'right': eigs[1], 'left': eigs[2], 'r_i': eigs[3]}\n",
    "            data.eigen['damping'] = np.exp(data.eigen['r_i'][1] - data.eigen['r_i'][0])\n",
    "            data.derivatives = Processing.compute_derivatives(l_a, f_a, ages, data.eigen)\n",
    "            data.approximations = Processing.compute_approximations(data.derivatives, data.eigen)\n",
    "\n",
    "            \n",
    "    @staticmethod\n",
    "    def generate_leslie(p_a, f_a):\n",
    "        N = p_a.shape[0]\n",
    "        leslie = np.zeros((N, N))\n",
    "        leslie[0] = f_a\n",
    "        np.fill_diagonal(leslie[1:, :-1], p_a)\n",
    "        return leslie\n",
    "\n",
    "    @staticmethod\n",
    "    def compute_eig(leslie):\n",
    "        #RIGHT\n",
    "        r_vals, r_vecs = np.linalg.eig(leslie)\n",
    "        ix_r = r_vals.argsort()\n",
    "        ix_r = ix_r[::-1]\n",
    "        r_vals = r_vals[ix_r]\n",
    "        r_vecs = r_vecs[ix_r]\n",
    "        #LEFT\n",
    "        l_vals, l_vecs = np.linalg.eig(leslie.T)\n",
    "        ix_l = l_vals.argsort()\n",
    "        ix_l = ix_l[::-1]\n",
    "        l_vals = l_vals[ix_l]\n",
    "        l_vecs = l_vecs[ix_l]\n",
    "        assert np.linalg.norm(l_vals - r_vals) < .00001 #check eigenvalues are the same\n",
    "        r_eigs = r_vecs[:2]\n",
    "        l_eigs = l_vecs[:2]\n",
    "        vals = r_vals[:2]\n",
    "        r_i = np.log(np.real(vals))\n",
    "        return vals, r_eigs, l_eigs, r_i \n",
    "    \n",
    "    def compute_approximations(deriv, eig):\n",
    "        approx = {}\n",
    "        approx['d'] = np.exp(-2*np.pi*deriv['V']/deriv['T_c']**3)\n",
    "        approx['r_0a'] = r_0a = np.log(deriv['R_0'])/deriv['T_c'] #without dispersion\n",
    "        approx['r_0b'] = r_0a + deriv['V']*np.log(deriv['R_0'])**2/(deriv['T_c']**3)  #with dispersion\n",
    "        approx['r_1a'] = eig['r_i'][0] - 2 * np.pi / (deriv['T_c']**3)\n",
    "        approx['s_1a'] =  2 * np.pi / deriv['T_c'] - np.pi * deriv['V'] * np.log(deriv['R_0'])/ (deriv['T_c']**3)\n",
    "        return approx\n",
    "    \n",
    "    @staticmethod\n",
    "    def compute_derivatives(l_a, f_a, ages, eigen):\n",
    "        derivatives = {}\n",
    "        derivatives['R_0'] = R_0 = np.sum(l_a * f_a)\n",
    "        derivatives['T_c'] = T_c =  1 / R_0 * np.sum(ages * l_a * f_a)\n",
    "        derivatives['V'] = V = 1 / R_0 * np.sum((ages - T_c)**2 * l_a * f_a)\n",
    "        derivatives['G'] = G = 1 / (R_0 * V**1.5) * np.sum((ages - T_c)**3 * l_a * f_a)\n",
    "        derivatives['K'] = K =  1 / (R_0 * V**2) * np.sum((ages - T_c)**4 * l_a * f_a)\n",
    "        return derivatives\n",
    "    \n",
    "    @staticmethod\n",
    "    def check_derivatives(species):\n",
    "        for data in species.data:\n",
    "            T_c_reported = data.reported['T_c'][1]\n",
    "            R_0_reported = data.reported['R_0']\n",
    "            V_reported = data.reported['V']\n",
    "            exceptions = []\n",
    "            if not (abs(data.derivatives['T_c'] - T_c_reported) < .01):\n",
    "                exceptions.append('T_c calculated: {}, reported: {}'.format(data.derivatives['T_c'], T_c_reported))\n",
    "            if not (R_0_reported is None or abs(data.derivatives['R_0'] - R_0_reported) < .01): \n",
    "                exceptions.append('R_0 calculated: {}, reported: {}'.format(data.derivatives['R_0'], R_0_reported))\n",
    "            if not (V_reported is None or abs(data.derivatives['V'] - V_reported) < .01): \n",
    "                exceptions.append('V calculated: {}, reported: {}'.format(data.derivatives['V'], V_reported))\n",
    "            if len(exceptions) > 0:\n",
    "                combined = '; '\n",
    "                combined = combined.join(exceptions)\n",
    "                raise Exception('For {}, {}'.format(species.name, combined))\n",
    "                "
   ]
  },
  {
   "cell_type": "code",
   "execution_count": 5,
   "metadata": {},
   "outputs": [
    {
     "name": "stdout",
     "output_type": "stream",
     "text": [
      "**********\n",
      "For Spermophilus lateralis, T_c calculated: 3.3807044887780555, reported: 3.511; R_0 calculated: 0.9623999999999999, reported: 0.998; V calculated: 2.2432498777603995, reported: 2.618\n",
      "**********\n",
      "For Lepus europaeus, T_c calculated: 1.1066552581379423, reported: 1.217; V calculated: 0.09527991404947117, reported: 0.264\n",
      "**********\n",
      "For Capreolus capreolus, T_c calculated: 4.555876774257954, reported: 4.754; V calculated: 3.9787695061941166, reported: 4.814\n",
      "**********\n",
      "For Pteropus conspicillatus, T_c calculated: 4.001943479485495, reported: 4.76; V calculated: 4.921872103086531, reported: 3.302\n",
      "**********\n",
      "For Lynx rufus, T_c calculated: 2.169733372399648, reported: 2.67\n",
      "**********\n",
      "For Arctocephalus australis, T_c calculated: 6.323251800587961, reported: 5.823\n",
      "**********\n",
      "For Zapus princeps, T_c calculated: 1.9642274633018801, reported: 2.279; V calculated: 0.6142581144251301, reported: 1.1\n"
     ]
    },
    {
     "name": "stderr",
     "output_type": "stream",
     "text": [
      "/home/kaan/anaconda3/envs/bio172_3.6/lib/python3.6/site-packages/ipykernel_launcher.py:48: RuntimeWarning: divide by zero encountered in log\n",
      "/home/kaan/anaconda3/envs/bio172_3.6/lib/python3.6/site-packages/ipykernel_launcher.py:17: RuntimeWarning: invalid value encountered in double_scalars\n"
     ]
    }
   ],
   "source": [
    "for s in SPECIES:\n",
    "    Processing.process(SPECIES[s])\n",
    "    try:\n",
    "        Processing.check_derivatives(SPECIES[s])\n",
    "    except Exception as e:\n",
    "        print('**********')\n",
    "        print(e)"
   ]
  },
  {
   "cell_type": "code",
   "execution_count": 9,
   "metadata": {},
   "outputs": [],
   "source": [
    "s = 'Zapus princeps'"
   ]
  },
  {
   "cell_type": "code",
   "execution_count": 6,
   "metadata": {},
   "outputs": [],
   "source": [
    "s = 'Spermophilus townsendii'"
   ]
  },
  {
   "cell_type": "code",
   "execution_count": 10,
   "metadata": {},
   "outputs": [
    {
     "data": {
      "text/plain": [
       "Zapus princeps: 1 data entries, notes: []"
      ]
     },
     "execution_count": 10,
     "metadata": {},
     "output_type": "execute_result"
    }
   ],
   "source": [
    "SPECIES[s]"
   ]
  },
  {
   "cell_type": "code",
   "execution_count": 11,
   "metadata": {},
   "outputs": [
    {
     "data": {
      "text/html": [
       "<div>\n",
       "<style scoped>\n",
       "    .dataframe tbody tr th:only-of-type {\n",
       "        vertical-align: middle;\n",
       "    }\n",
       "\n",
       "    .dataframe tbody tr th {\n",
       "        vertical-align: top;\n",
       "    }\n",
       "\n",
       "    .dataframe thead th {\n",
       "        text-align: right;\n",
       "    }\n",
       "</style>\n",
       "<table border=\"1\" class=\"dataframe\">\n",
       "  <thead>\n",
       "    <tr style=\"text-align: right;\">\n",
       "      <th></th>\n",
       "      <th>l(a)</th>\n",
       "      <th>f(a)</th>\n",
       "      <th>p(a)</th>\n",
       "    </tr>\n",
       "    <tr>\n",
       "      <th>age</th>\n",
       "      <th></th>\n",
       "      <th></th>\n",
       "      <th></th>\n",
       "    </tr>\n",
       "  </thead>\n",
       "  <tbody>\n",
       "    <tr>\n",
       "      <th>0.0</th>\n",
       "      <td>1.000</td>\n",
       "      <td>0.00</td>\n",
       "      <td>0.307000</td>\n",
       "    </tr>\n",
       "    <tr>\n",
       "      <th>1.0</th>\n",
       "      <td>0.307</td>\n",
       "      <td>0.85</td>\n",
       "      <td>0.951140</td>\n",
       "    </tr>\n",
       "    <tr>\n",
       "      <th>2.0</th>\n",
       "      <td>0.292</td>\n",
       "      <td>1.91</td>\n",
       "      <td>0.431507</td>\n",
       "    </tr>\n",
       "    <tr>\n",
       "      <th>3.0</th>\n",
       "      <td>0.126</td>\n",
       "      <td>1.20</td>\n",
       "      <td>0.119048</td>\n",
       "    </tr>\n",
       "    <tr>\n",
       "      <th>4.0</th>\n",
       "      <td>0.015</td>\n",
       "      <td>1.30</td>\n",
       "      <td>0.333333</td>\n",
       "    </tr>\n",
       "    <tr>\n",
       "      <th>5.0</th>\n",
       "      <td>0.005</td>\n",
       "      <td>1.00</td>\n",
       "      <td>1.000000</td>\n",
       "    </tr>\n",
       "    <tr>\n",
       "      <th>6.0</th>\n",
       "      <td>0.005</td>\n",
       "      <td>1.00</td>\n",
       "      <td>0.000000</td>\n",
       "    </tr>\n",
       "  </tbody>\n",
       "</table>\n",
       "</div>"
      ],
      "text/plain": [
       "      l(a)  f(a)      p(a)\n",
       "age                       \n",
       "0.0  1.000  0.00  0.307000\n",
       "1.0  0.307  0.85  0.951140\n",
       "2.0  0.292  1.91  0.431507\n",
       "3.0  0.126  1.20  0.119048\n",
       "4.0  0.015  1.30  0.333333\n",
       "5.0  0.005  1.00  1.000000\n",
       "6.0  0.005  1.00  0.000000"
      ]
     },
     "execution_count": 11,
     "metadata": {},
     "output_type": "execute_result"
    }
   ],
   "source": [
    "pd.DataFrame(SPECIES[s].data[0].matrix)"
   ]
  },
  {
   "cell_type": "code",
   "execution_count": 12,
   "metadata": {},
   "outputs": [
    {
     "data": {
      "text/plain": [
       "[Falk & Millar 87]"
      ]
     },
     "execution_count": 12,
     "metadata": {},
     "output_type": "execute_result"
    }
   ],
   "source": [
    "SPECIES[s].data"
   ]
  },
  {
   "cell_type": "code",
   "execution_count": 14,
   "metadata": {},
   "outputs": [
    {
     "data": {
      "text/plain": [
       "array([[0.        , 0.85      , 1.91      , 1.2       , 1.3       ,\n",
       "        1.        , 1.        ],\n",
       "       [0.307     , 0.        , 0.        , 0.        , 0.        ,\n",
       "        0.        , 0.        ],\n",
       "       [0.        , 0.95114007, 0.        , 0.        , 0.        ,\n",
       "        0.        , 0.        ],\n",
       "       [0.        , 0.        , 0.43150685, 0.        , 0.        ,\n",
       "        0.        , 0.        ],\n",
       "       [0.        , 0.        , 0.        , 0.11904762, 0.        ,\n",
       "        0.        , 0.        ],\n",
       "       [0.        , 0.        , 0.        , 0.        , 0.33333333,\n",
       "        0.        , 0.        ],\n",
       "       [0.        , 0.        , 0.        , 0.        , 0.        ,\n",
       "        1.        , 0.        ]])"
      ]
     },
     "execution_count": 14,
     "metadata": {},
     "output_type": "execute_result"
    }
   ],
   "source": [
    "SPECIES[s].data[0].leslie"
   ]
  },
  {
   "cell_type": "code",
   "execution_count": 15,
   "metadata": {},
   "outputs": [
    {
     "data": {
      "text/plain": [
       "{'d': 0.6009289280988288,\n",
       " 'r_0a': -0.00032083785873202974,\n",
       " 'r_0b': -0.0003208056680378825,\n",
       " 'r_1a': -0.8293080461333774,\n",
       " 's_1a': 3.198967854115502}"
      ]
     },
     "execution_count": 15,
     "metadata": {},
     "output_type": "execute_result"
    }
   ],
   "source": [
    "SPECIES[s].data[0].approximations"
   ]
  },
  {
   "cell_type": "code",
   "execution_count": 16,
   "metadata": {},
   "outputs": [
    {
     "data": {
      "text/plain": [
       "{'vals': array([0.99978743+0.j        , 0.14763761+0.23169683j]),\n",
       " 'right': array([[-0.91447366+0.j        ,  0.77179484+0.j        ,\n",
       "          0.77179484-0.j        ,  0.05039642+0.2265691j ,\n",
       "          0.05039642-0.2265691j ,  0.06721465-0.01805052j,\n",
       "          0.06721465+0.01805052j],\n",
       "        [-0.00457723+0.j        , -0.01233822+0.01884284j,\n",
       "         -0.01233822-0.01884284j,  0.06489139+0.16356494j,\n",
       "          0.06489139-0.16356494j,  0.11946809+0.18748866j,\n",
       "          0.11946809-0.18748866j]]),\n",
       " 'left': array([[-0.18590287+0.j        , -0.10784803-0.19173828j,\n",
       "         -0.10784803+0.19173828j, -0.00893227+0.10288732j,\n",
       "         -0.00893227-0.10288732j, -0.03361183+0.02223882j,\n",
       "         -0.03361183-0.02223882j],\n",
       "        [-0.37192433+0.j        ,  0.28268141+0.28254025j,\n",
       "          0.28268141-0.28254025j, -0.55931906+0.00222515j,\n",
       "         -0.55931906-0.00222515j,  0.4576896 +0.42582764j,\n",
       "          0.4576896 -0.42582764j]]),\n",
       " 'r_i': array([-2.12596590e-04, -1.91299459e+00]),\n",
       " 'damping': 0.14766900111119072}"
      ]
     },
     "execution_count": 16,
     "metadata": {},
     "output_type": "execute_result"
    }
   ],
   "source": [
    "SPECIES[s].data[0].eigen"
   ]
  },
  {
   "cell_type": "code",
   "execution_count": 127,
   "metadata": {},
   "outputs": [],
   "source": [
    "def export_to_csv(species):\n",
    "    \"\"\"\n",
    "    format of the exported csv file will be: \n",
    "    <identifiers:[species_name, dataset_tag], \n",
    "    eigen:[r_0, r_1, s_1, damping],\n",
    "    derivatives: [R_0, T_c, V, G, >],\n",
    "    approximations: [d, r_0a, r_0b, r_1a, s_1a]>\n",
    "    \n",
    "    right_vec and left_vecs will be comma-concanetaed\n",
    "    \"\"\"\n",
    "    filename = 'processed.csv'\n",
    "    table = []\n",
    "    columns = ['species-name', 'dataset-tag', \n",
    "               'r_0', 'r_1', 's_1', 'damping',\n",
    "               'R_0', 'T_c', 'V', 'G',\n",
    "               'd', 'r_0a', 'r_0b', 'r_1a', 's_1a']\n",
    "    for s in species:\n",
    "        for data in species[s].data:\n",
    "            identifiers = [s, str(data)]\n",
    "            \n",
    "            eigen = [data.eigen['r_i'][0], data.eigen['r_i'][1], np.imag(data.eigen['vals'][1]), \n",
    "                     data.eigen['damping']]\n",
    "            \n",
    "            derivatives = [data.derivatives['R_0'], data.derivatives['T_c'], \n",
    "                           data.derivatives['V'], data.derivatives['G']]\n",
    "            \n",
    "            approximations = [data.approximations['d'], data.approximations['r_0a'],\n",
    "                             data.approximations['r_0b'], data.approximations['r_1a'],\n",
    "                             data.approximations['s_1a']]\n",
    "            \n",
    "            table.append(identifiers + eigen + derivatives + approximations)\n",
    "            \n",
    "    df = pd.DataFrame(table)\n",
    "    df.columns = columns\n",
    "    return df"
   ]
  },
  {
   "cell_type": "code",
   "execution_count": 128,
   "metadata": {},
   "outputs": [],
   "source": [
    "df = export_to_csv(SPECIES)"
   ]
  },
  {
   "cell_type": "code",
   "execution_count": 129,
   "metadata": {},
   "outputs": [],
   "source": [
    "df.to_csv(os.path.join(config.OUTPUT_DIR, 'processed.csv'))"
   ]
  },
  {
   "cell_type": "markdown",
   "metadata": {},
   "source": [
    "## Working with the Species objects\n",
    "\n",
    "You can acccess the calculated derivatives as follows:"
   ]
  },
  {
   "cell_type": "code",
   "execution_count": 130,
   "metadata": {},
   "outputs": [],
   "source": [
    "s = random.choice(list(SPECIES.keys()))"
   ]
  },
  {
   "cell_type": "code",
   "execution_count": 131,
   "metadata": {},
   "outputs": [
    {
     "data": {
      "text/plain": [
       "Godley (stationary): 1 data entries, notes: []"
      ]
     },
     "execution_count": 131,
     "metadata": {},
     "output_type": "execute_result"
    }
   ],
   "source": [
    "SPECIES[s]"
   ]
  },
  {
   "cell_type": "code",
   "execution_count": 132,
   "metadata": {},
   "outputs": [
    {
     "data": {
      "text/plain": [
       "dict_keys(['vals', 'right', 'left', 'r_i', 'damping'])"
      ]
     },
     "execution_count": 132,
     "metadata": {},
     "output_type": "execute_result"
    }
   ],
   "source": [
    "SPECIES[s].data[0].eigen.keys()"
   ]
  },
  {
   "cell_type": "code",
   "execution_count": 133,
   "metadata": {},
   "outputs": [
    {
     "data": {
      "text/plain": [
       "array([0.99089396+0.j        , 0.58665544+0.43938025j])"
      ]
     },
     "execution_count": 133,
     "metadata": {},
     "output_type": "execute_result"
    }
   ],
   "source": [
    "SPECIES[s].data[0].eigen['vals']"
   ]
  },
  {
   "cell_type": "code",
   "execution_count": 134,
   "metadata": {},
   "outputs": [
    {
     "data": {
      "text/plain": [
       "array([-0.00914775, -0.53331761])"
      ]
     },
     "execution_count": 134,
     "metadata": {},
     "output_type": "execute_result"
    }
   ],
   "source": [
    "SPECIES[s].data[0].eigen['r_i']"
   ]
  },
  {
   "cell_type": "code",
   "execution_count": 135,
   "metadata": {},
   "outputs": [
    {
     "data": {
      "text/plain": [
       "0.5920466412204611"
      ]
     },
     "execution_count": 135,
     "metadata": {},
     "output_type": "execute_result"
    }
   ],
   "source": [
    "SPECIES[s].data[0].eigen['damping']"
   ]
  },
  {
   "cell_type": "code",
   "execution_count": 136,
   "metadata": {},
   "outputs": [
    {
     "data": {
      "text/plain": [
       "{'R_0': 0.927374,\n",
       " 'T_c': 5.368981662198853,\n",
       " 'V': 5.8839824913165,\n",
       " 'G': 0.71153350199103,\n",
       " 'K': 2.7762671258579386}"
      ]
     },
     "execution_count": 136,
     "metadata": {},
     "output_type": "execute_result"
    }
   ],
   "source": [
    "SPECIES[s].data[0].derivatives"
   ]
  },
  {
   "cell_type": "code",
   "execution_count": 137,
   "metadata": {},
   "outputs": [
    {
     "data": {
      "text/plain": [
       "{'d': 0.7875112456898881,\n",
       " 'r_0a': -0.01404332283649303,\n",
       " 'r_0b': -0.013827190767604315,\n",
       " 'r_1a': -0.04974570069224413,\n",
       " 's_1a': 1.179280543115519}"
      ]
     },
     "execution_count": 137,
     "metadata": {},
     "output_type": "execute_result"
    }
   ],
   "source": [
    "SPECIES[s].data[0].approximations"
   ]
  },
  {
   "cell_type": "code",
   "execution_count": 138,
   "metadata": {},
   "outputs": [
    {
     "data": {
      "text/plain": [
       "{'T_c': [None, 5.369], 'V': 5.884, 'R_0': None}"
      ]
     },
     "execution_count": 138,
     "metadata": {},
     "output_type": "execute_result"
    }
   ],
   "source": [
    "SPECIES[s].data[0].reported"
   ]
  },
  {
   "cell_type": "code",
   "execution_count": 139,
   "metadata": {},
   "outputs": [],
   "source": [
    "save = True\n",
    "if save:\n",
    "    config.save_pickle(SPECIES, os.path.join(config.OUTPUT_DIR, 'species_processed.pkl'))"
   ]
  },
  {
   "cell_type": "markdown",
   "metadata": {},
   "source": [
    "## Bugs"
   ]
  },
  {
   "cell_type": "raw",
   "metadata": {},
   "source": [
    "***********************************************************\n",
    "* Ursus arctos horribilis,                                *\n",
    "* Cebus olivaceus large groups,                           *\n",
    "* Cebus olivaceus small groups,                           *\n",
    "* Equus asinus,                                           *\n",
    "* Spermophilus townsendii lead to a warning, check these. *\n",
    "***********************************************************"
   ]
  },
  {
   "cell_type": "code",
   "execution_count": 140,
   "metadata": {},
   "outputs": [
    {
     "name": "stderr",
     "output_type": "stream",
     "text": [
      "/home/kaan/anaconda3/envs/bio172_3.6/lib/python3.6/site-packages/ipykernel_launcher.py:48: RuntimeWarning: divide by zero encountered in log\n",
      "/home/kaan/anaconda3/envs/bio172_3.6/lib/python3.6/site-packages/ipykernel_launcher.py:17: RuntimeWarning: invalid value encountered in double_scalars\n"
     ]
    }
   ],
   "source": [
    "Processing.process(SPECIES['Ursus arctos horribilis'])"
   ]
  },
  {
   "cell_type": "code",
   "execution_count": 142,
   "metadata": {},
   "outputs": [
    {
     "data": {
      "text/html": [
       "<div>\n",
       "<style scoped>\n",
       "    .dataframe tbody tr th:only-of-type {\n",
       "        vertical-align: middle;\n",
       "    }\n",
       "\n",
       "    .dataframe tbody tr th {\n",
       "        vertical-align: top;\n",
       "    }\n",
       "\n",
       "    .dataframe thead th {\n",
       "        text-align: right;\n",
       "    }\n",
       "</style>\n",
       "<table border=\"1\" class=\"dataframe\">\n",
       "  <thead>\n",
       "    <tr style=\"text-align: right;\">\n",
       "      <th></th>\n",
       "      <th>species-name</th>\n",
       "      <th>dataset-tag</th>\n",
       "      <th>r_0</th>\n",
       "      <th>r_1</th>\n",
       "      <th>s_1</th>\n",
       "      <th>damping</th>\n",
       "      <th>R_0</th>\n",
       "      <th>T_c</th>\n",
       "      <th>V</th>\n",
       "      <th>G</th>\n",
       "      <th>d</th>\n",
       "      <th>r_0a</th>\n",
       "      <th>r_0b</th>\n",
       "      <th>r_1a</th>\n",
       "      <th>s_1a</th>\n",
       "    </tr>\n",
       "  </thead>\n",
       "  <tbody>\n",
       "    <tr>\n",
       "      <th>49</th>\n",
       "      <td>Ursus arctos horribilis</td>\n",
       "      <td>Knight &amp; Eberhardt 85</td>\n",
       "      <td>-inf</td>\n",
       "      <td>-inf</td>\n",
       "      <td>0.0</td>\n",
       "      <td>NaN</td>\n",
       "      <td>0.698387</td>\n",
       "      <td>10.317704</td>\n",
       "      <td>16.907862</td>\n",
       "      <td>0.533414</td>\n",
       "      <td>0.907810</td>\n",
       "      <td>-0.034793</td>\n",
       "      <td>-0.032809</td>\n",
       "      <td>-inf</td>\n",
       "      <td>0.626332</td>\n",
       "    </tr>\n",
       "    <tr>\n",
       "      <th>53</th>\n",
       "      <td>Cebus olivaceus large groups</td>\n",
       "      <td>Robinson &amp; O'Brien 91</td>\n",
       "      <td>-inf</td>\n",
       "      <td>-inf</td>\n",
       "      <td>0.0</td>\n",
       "      <td>NaN</td>\n",
       "      <td>3.725395</td>\n",
       "      <td>17.817908</td>\n",
       "      <td>53.485321</td>\n",
       "      <td>0.358324</td>\n",
       "      <td>0.942322</td>\n",
       "      <td>0.073812</td>\n",
       "      <td>0.090166</td>\n",
       "      <td>-inf</td>\n",
       "      <td>0.313567</td>\n",
       "    </tr>\n",
       "    <tr>\n",
       "      <th>54</th>\n",
       "      <td>Cebus olivaceus small groups</td>\n",
       "      <td>Robinson &amp; O'Brien 91</td>\n",
       "      <td>-inf</td>\n",
       "      <td>-inf</td>\n",
       "      <td>0.0</td>\n",
       "      <td>NaN</td>\n",
       "      <td>1.885453</td>\n",
       "      <td>16.051621</td>\n",
       "      <td>56.095486</td>\n",
       "      <td>0.564275</td>\n",
       "      <td>0.918309</td>\n",
       "      <td>0.039508</td>\n",
       "      <td>0.044963</td>\n",
       "      <td>-inf</td>\n",
       "      <td>0.364414</td>\n",
       "    </tr>\n",
       "    <tr>\n",
       "      <th>55</th>\n",
       "      <td>Equus asinus</td>\n",
       "      <td>Saltz 95</td>\n",
       "      <td>-inf</td>\n",
       "      <td>-inf</td>\n",
       "      <td>0.0</td>\n",
       "      <td>NaN</td>\n",
       "      <td>2.099600</td>\n",
       "      <td>7.609926</td>\n",
       "      <td>17.928334</td>\n",
       "      <td>0.293129</td>\n",
       "      <td>0.774444</td>\n",
       "      <td>0.097471</td>\n",
       "      <td>0.119854</td>\n",
       "      <td>-inf</td>\n",
       "      <td>0.730857</td>\n",
       "    </tr>\n",
       "    <tr>\n",
       "      <th>56</th>\n",
       "      <td>Spermophilus townsendii</td>\n",
       "      <td>Smith 85</td>\n",
       "      <td>-inf</td>\n",
       "      <td>-inf</td>\n",
       "      <td>0.0</td>\n",
       "      <td>NaN</td>\n",
       "      <td>1.534000</td>\n",
       "      <td>1.688396</td>\n",
       "      <td>0.715159</td>\n",
       "      <td>1.054114</td>\n",
       "      <td>0.393137</td>\n",
       "      <td>0.253423</td>\n",
       "      <td>0.280626</td>\n",
       "      <td>-inf</td>\n",
       "      <td>3.521659</td>\n",
       "    </tr>\n",
       "  </tbody>\n",
       "</table>\n",
       "</div>"
      ],
      "text/plain": [
       "                    species-name            dataset-tag  r_0  r_1  s_1  \\\n",
       "49       Ursus arctos horribilis  Knight & Eberhardt 85 -inf -inf  0.0   \n",
       "53  Cebus olivaceus large groups  Robinson & O'Brien 91 -inf -inf  0.0   \n",
       "54  Cebus olivaceus small groups  Robinson & O'Brien 91 -inf -inf  0.0   \n",
       "55                  Equus asinus               Saltz 95 -inf -inf  0.0   \n",
       "56       Spermophilus townsendii               Smith 85 -inf -inf  0.0   \n",
       "\n",
       "    damping       R_0        T_c          V         G         d      r_0a  \\\n",
       "49      NaN  0.698387  10.317704  16.907862  0.533414  0.907810 -0.034793   \n",
       "53      NaN  3.725395  17.817908  53.485321  0.358324  0.942322  0.073812   \n",
       "54      NaN  1.885453  16.051621  56.095486  0.564275  0.918309  0.039508   \n",
       "55      NaN  2.099600   7.609926  17.928334  0.293129  0.774444  0.097471   \n",
       "56      NaN  1.534000   1.688396   0.715159  1.054114  0.393137  0.253423   \n",
       "\n",
       "        r_0b  r_1a      s_1a  \n",
       "49 -0.032809  -inf  0.626332  \n",
       "53  0.090166  -inf  0.313567  \n",
       "54  0.044963  -inf  0.364414  \n",
       "55  0.119854  -inf  0.730857  \n",
       "56  0.280626  -inf  3.521659  "
      ]
     },
     "execution_count": 142,
     "metadata": {},
     "output_type": "execute_result"
    }
   ],
   "source": [
    "df[df['r_0'] == - np.inf]"
   ]
  },
  {
   "cell_type": "raw",
   "metadata": {},
   "source": [
    "***********************************************************\n",
    "* For some in the dataset, there are no p(a) values!      *\n",
    "***********************************************************"
   ]
  },
  {
   "cell_type": "raw",
   "metadata": {},
   "source": [
    "***********************************************************\n",
    "* For the species with age, e.g. 'Lepus europaeus',       *\n",
    "in months, how to handle them?                            *\n",
    "***********************************************************\n",
    "!Resolved: Divided the ages by 12 for those with the note 'age in months'"
   ]
  },
  {
   "cell_type": "raw",
   "metadata": {},
   "source": [
    "***********************************************************\n",
    "* Some calculated values do not match for:                *\n",
    "* Capreolus capreolus, Pteropus conspicillatus,           *\n",
    "* Lynx rufus, Arctocephalus australis,                    *\n",
    "* Zapus princeps                                          *\n",
    "***********************************************************\n",
    "!Resolved: Its ok"
   ]
  },
  {
   "cell_type": "raw",
   "metadata": {},
   "source": [
    "***********************************************************\n",
    "* Spermophilus lateralis (data[2]) has cell \">1\"          *\n",
    "***********************************************************\n",
    "!Resovled: Replaced with .99 and updated the l(a) values that come after it."
   ]
  }
 ],
 "metadata": {
  "kernelspec": {
   "display_name": "bio172_3.6",
   "language": "python",
   "name": "bio172_3.6"
  },
  "language_info": {
   "codemirror_mode": {
    "name": "ipython",
    "version": 3
   },
   "file_extension": ".py",
   "mimetype": "text/x-python",
   "name": "python",
   "nbconvert_exporter": "python",
   "pygments_lexer": "ipython3",
   "version": "3.6.8"
  }
 },
 "nbformat": 4,
 "nbformat_minor": 2
}
