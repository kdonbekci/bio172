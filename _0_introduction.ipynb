{
 "cells": [
  {
   "cell_type": "code",
   "execution_count": 1,
   "metadata": {},
   "outputs": [
    {
     "name": "stdout",
     "output_type": "stream",
     "text": [
      "Importing Jupyter notebook from _1_extract.ipynb\n"
     ]
    }
   ],
   "source": [
    "import config, os, nbimporter, _1_extract\n",
    "Species, Data = _1_extract.Species, _1_extract.Data"
   ]
  },
  {
   "cell_type": "markdown",
   "metadata": {},
   "source": [
    "# bio172\n",
    "## Course repo for BIO172 - Ecological Dynamics: Theory and Applications\n",
    "Will be used for the life history and dispersion project. Structured from 1, ..., N for ease of readability.\n",
    "\n",
    "## Background\n",
    "\n",
    "Life histroy traits are the important factors that shape the life of an individual organism. For a given species, important variables could be the **age**, **size**, **beak length**, **size in RAM**, ...\n",
    "\n",
    "These variables are then used to model vital rates, survival and reproduction, of populations. In this project, we are examining the effects of dispersion on population growth rate.\n",
    "\n",
    "## Theory\n",
    "\n",
    "For a simple model that takes only **age** into account, we can define the vital rates as:\n",
    "\n",
    "$p(a):$ survival rate from age $a$ to $a+1$.\n",
    "\n",
    "$l(a):$ cumulative survival from birth to age $a$, e.g. $l(4) = p(2) \\times p(3)$ ($p(1) = 1$).\n",
    "\n",
    "$f(a):$ fertility at age $a$.\n",
    "\n",
    "Using these rates, we can construct a square matrix $A$, called a [Leslie matrix](https://en.wikipedia.org/wiki/Leslie_matrix \"Wikipedia article on Leslie matrix\") to model the population. The matrix will be of shape $D\\times D$ where $D$ is the maximum age in our population.\n",
    "\n"
   ]
  },
  {
   "cell_type": "code",
   "execution_count": 2,
   "metadata": {},
   "outputs": [],
   "source": [
    "SPECIES = config.load_pickle(os.path.join(config.OUTPUT_DIR, 'species.pkl'))"
   ]
  },
  {
   "cell_type": "code",
   "execution_count": 3,
   "metadata": {},
   "outputs": [
    {
     "data": {
      "text/plain": [
       "['Spermophilus columbianus',\n",
       " 'Spermophilus lateralis',\n",
       " 'Theropithecus gelada',\n",
       " 'Yellow-bellied marmot',\n",
       " 'Spermophilus armatus',\n",
       " 'Tursiops truncatus',\n",
       " 'Papio cynocephalus',\n",
       " 'Helogale parvula',\n",
       " 'Callorhinus ursinus',\n",
       " 'Phacochoerus aethiopicus']"
      ]
     },
     "execution_count": 3,
     "metadata": {},
     "output_type": "execute_result"
    }
   ],
   "source": [
    "list(SPECIES.keys())[:10]"
   ]
  }
 ],
 "metadata": {
  "kernelspec": {
   "display_name": "bio172_3.6",
   "language": "python",
   "name": "bio172_3.6"
  },
  "language_info": {
   "codemirror_mode": {
    "name": "ipython",
    "version": 3
   },
   "file_extension": ".py",
   "mimetype": "text/x-python",
   "name": "python",
   "nbconvert_exporter": "python",
   "pygments_lexer": "ipython3",
   "version": "3.6.8"
  }
 },
 "nbformat": 4,
 "nbformat_minor": 2
}
